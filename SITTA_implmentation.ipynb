{
  "metadata": {
    "kernelspec": {
      "display_name": "Python 3",
      "name": "python3"
    },
    "language_info": {
      "name": "python",
      "version": "3.10.12",
      "mimetype": "text/x-python",
      "codemirror_mode": {
        "name": "ipython",
        "version": 3
      },
      "pygments_lexer": "ipython3",
      "nbconvert_exporter": "python",
      "file_extension": ".py"
    },
    "kaggle": {
      "accelerator": "nvidiaTeslaT4",
      "dataSources": [
        {
          "sourceId": 10929548,
          "sourceType": "datasetVersion",
          "datasetId": 6795692
        },
        {
          "sourceId": 275132,
          "sourceType": "modelInstanceVersion",
          "isSourceIdPinned": false,
          "modelInstanceId": 235606,
          "modelId": 257292
        }
      ],
      "dockerImageVersionId": 30918,
      "isInternetEnabled": true,
      "language": "python",
      "sourceType": "notebook",
      "isGpuEnabled": true
    },
    "colab": {
      "name": "SITTA-implmentation",
      "provenance": [],
      "machine_shape": "hm",
      "gpuType": "A100",
      "include_colab_link": true
    },
    "accelerator": "GPU",
    "widgets": {
      "application/vnd.jupyter.widget-state+json": {
        "bfa4f07df98e4912a43bb4866d03b663": {
          "model_module": "@jupyter-widgets/controls",
          "model_name": "VBoxModel",
          "model_module_version": "1.5.0",
          "state": {
            "_dom_classes": [],
            "_model_module": "@jupyter-widgets/controls",
            "_model_module_version": "1.5.0",
            "_model_name": "VBoxModel",
            "_view_count": null,
            "_view_module": "@jupyter-widgets/controls",
            "_view_module_version": "1.5.0",
            "_view_name": "VBoxView",
            "box_style": "",
            "children": [
              "IPY_MODEL_3034b8d48ceb41be94a49105c9f88cdd"
            ],
            "layout": "IPY_MODEL_d45553f17e1347449c39e3a09687a686"
          }
        },
        "d68acaa65585447fa5ac7aa2485eb734": {
          "model_module": "@jupyter-widgets/controls",
          "model_name": "HTMLModel",
          "model_module_version": "1.5.0",
          "state": {
            "_dom_classes": [],
            "_model_module": "@jupyter-widgets/controls",
            "_model_module_version": "1.5.0",
            "_model_name": "HTMLModel",
            "_view_count": null,
            "_view_module": "@jupyter-widgets/controls",
            "_view_module_version": "1.5.0",
            "_view_name": "HTMLView",
            "description": "",
            "description_tooltip": null,
            "layout": "IPY_MODEL_a078385ed20a4b46aa219bc9bb304fb3",
            "placeholder": "​",
            "style": "IPY_MODEL_459536c989b54aab8074decec5b2f47f",
            "value": "<center> <img\nsrc=https://www.kaggle.com/static/images/site-logo.png\nalt='Kaggle'> <br> Create an API token from <a\nhref=\"https://www.kaggle.com/settings/account\" target=\"_blank\">your Kaggle\nsettings page</a> and paste it below along with your Kaggle username. <br> </center>"
          }
        },
        "ab1b45b59eba474393c7672d2d61af5e": {
          "model_module": "@jupyter-widgets/controls",
          "model_name": "TextModel",
          "model_module_version": "1.5.0",
          "state": {
            "_dom_classes": [],
            "_model_module": "@jupyter-widgets/controls",
            "_model_module_version": "1.5.0",
            "_model_name": "TextModel",
            "_view_count": null,
            "_view_module": "@jupyter-widgets/controls",
            "_view_module_version": "1.5.0",
            "_view_name": "TextView",
            "continuous_update": true,
            "description": "Username:",
            "description_tooltip": null,
            "disabled": false,
            "layout": "IPY_MODEL_658faaec4ade4d6cb4e92f45cf2d53ae",
            "placeholder": "​",
            "style": "IPY_MODEL_faedc1c253694e489ae80e4f0c935d16",
            "value": "yeluripatisrividya"
          }
        },
        "6059cb12f80c43e8a8cd2c7ce634be15": {
          "model_module": "@jupyter-widgets/controls",
          "model_name": "PasswordModel",
          "model_module_version": "1.5.0",
          "state": {
            "_dom_classes": [],
            "_model_module": "@jupyter-widgets/controls",
            "_model_module_version": "1.5.0",
            "_model_name": "PasswordModel",
            "_view_count": null,
            "_view_module": "@jupyter-widgets/controls",
            "_view_module_version": "1.5.0",
            "_view_name": "PasswordView",
            "continuous_update": true,
            "description": "Token:",
            "description_tooltip": null,
            "disabled": false,
            "layout": "IPY_MODEL_bcbabf2873914d59a2ba25b4be89fff9",
            "placeholder": "​",
            "style": "IPY_MODEL_10f5571a61184c0d82ad79f9487cc87c",
            "value": ""
          }
        },
        "4f448555acdd4361a9a2270c118b0198": {
          "model_module": "@jupyter-widgets/controls",
          "model_name": "ButtonModel",
          "model_module_version": "1.5.0",
          "state": {
            "_dom_classes": [],
            "_model_module": "@jupyter-widgets/controls",
            "_model_module_version": "1.5.0",
            "_model_name": "ButtonModel",
            "_view_count": null,
            "_view_module": "@jupyter-widgets/controls",
            "_view_module_version": "1.5.0",
            "_view_name": "ButtonView",
            "button_style": "",
            "description": "Login",
            "disabled": false,
            "icon": "",
            "layout": "IPY_MODEL_30b6e62062744bc7ae48cad4fbf51a01",
            "style": "IPY_MODEL_1ceb55897c4644d3854d59ec5764b5cd",
            "tooltip": ""
          }
        },
        "342c3fc11a1d4498b1adf6c260019e18": {
          "model_module": "@jupyter-widgets/controls",
          "model_name": "HTMLModel",
          "model_module_version": "1.5.0",
          "state": {
            "_dom_classes": [],
            "_model_module": "@jupyter-widgets/controls",
            "_model_module_version": "1.5.0",
            "_model_name": "HTMLModel",
            "_view_count": null,
            "_view_module": "@jupyter-widgets/controls",
            "_view_module_version": "1.5.0",
            "_view_name": "HTMLView",
            "description": "",
            "description_tooltip": null,
            "layout": "IPY_MODEL_b4dc1c7ed9fc47ab8b55605716805afd",
            "placeholder": "​",
            "style": "IPY_MODEL_c2742e176f69472b8b8b1391549c3401",
            "value": "\n<b>Thank You</b></center>"
          }
        },
        "d45553f17e1347449c39e3a09687a686": {
          "model_module": "@jupyter-widgets/base",
          "model_name": "LayoutModel",
          "model_module_version": "1.2.0",
          "state": {
            "_model_module": "@jupyter-widgets/base",
            "_model_module_version": "1.2.0",
            "_model_name": "LayoutModel",
            "_view_count": null,
            "_view_module": "@jupyter-widgets/base",
            "_view_module_version": "1.2.0",
            "_view_name": "LayoutView",
            "align_content": null,
            "align_items": "center",
            "align_self": null,
            "border": null,
            "bottom": null,
            "display": "flex",
            "flex": null,
            "flex_flow": "column",
            "grid_area": null,
            "grid_auto_columns": null,
            "grid_auto_flow": null,
            "grid_auto_rows": null,
            "grid_column": null,
            "grid_gap": null,
            "grid_row": null,
            "grid_template_areas": null,
            "grid_template_columns": null,
            "grid_template_rows": null,
            "height": null,
            "justify_content": null,
            "justify_items": null,
            "left": null,
            "margin": null,
            "max_height": null,
            "max_width": null,
            "min_height": null,
            "min_width": null,
            "object_fit": null,
            "object_position": null,
            "order": null,
            "overflow": null,
            "overflow_x": null,
            "overflow_y": null,
            "padding": null,
            "right": null,
            "top": null,
            "visibility": null,
            "width": "50%"
          }
        },
        "a078385ed20a4b46aa219bc9bb304fb3": {
          "model_module": "@jupyter-widgets/base",
          "model_name": "LayoutModel",
          "model_module_version": "1.2.0",
          "state": {
            "_model_module": "@jupyter-widgets/base",
            "_model_module_version": "1.2.0",
            "_model_name": "LayoutModel",
            "_view_count": null,
            "_view_module": "@jupyter-widgets/base",
            "_view_module_version": "1.2.0",
            "_view_name": "LayoutView",
            "align_content": null,
            "align_items": null,
            "align_self": null,
            "border": null,
            "bottom": null,
            "display": null,
            "flex": null,
            "flex_flow": null,
            "grid_area": null,
            "grid_auto_columns": null,
            "grid_auto_flow": null,
            "grid_auto_rows": null,
            "grid_column": null,
            "grid_gap": null,
            "grid_row": null,
            "grid_template_areas": null,
            "grid_template_columns": null,
            "grid_template_rows": null,
            "height": null,
            "justify_content": null,
            "justify_items": null,
            "left": null,
            "margin": null,
            "max_height": null,
            "max_width": null,
            "min_height": null,
            "min_width": null,
            "object_fit": null,
            "object_position": null,
            "order": null,
            "overflow": null,
            "overflow_x": null,
            "overflow_y": null,
            "padding": null,
            "right": null,
            "top": null,
            "visibility": null,
            "width": null
          }
        },
        "459536c989b54aab8074decec5b2f47f": {
          "model_module": "@jupyter-widgets/controls",
          "model_name": "DescriptionStyleModel",
          "model_module_version": "1.5.0",
          "state": {
            "_model_module": "@jupyter-widgets/controls",
            "_model_module_version": "1.5.0",
            "_model_name": "DescriptionStyleModel",
            "_view_count": null,
            "_view_module": "@jupyter-widgets/base",
            "_view_module_version": "1.2.0",
            "_view_name": "StyleView",
            "description_width": ""
          }
        },
        "658faaec4ade4d6cb4e92f45cf2d53ae": {
          "model_module": "@jupyter-widgets/base",
          "model_name": "LayoutModel",
          "model_module_version": "1.2.0",
          "state": {
            "_model_module": "@jupyter-widgets/base",
            "_model_module_version": "1.2.0",
            "_model_name": "LayoutModel",
            "_view_count": null,
            "_view_module": "@jupyter-widgets/base",
            "_view_module_version": "1.2.0",
            "_view_name": "LayoutView",
            "align_content": null,
            "align_items": null,
            "align_self": null,
            "border": null,
            "bottom": null,
            "display": null,
            "flex": null,
            "flex_flow": null,
            "grid_area": null,
            "grid_auto_columns": null,
            "grid_auto_flow": null,
            "grid_auto_rows": null,
            "grid_column": null,
            "grid_gap": null,
            "grid_row": null,
            "grid_template_areas": null,
            "grid_template_columns": null,
            "grid_template_rows": null,
            "height": null,
            "justify_content": null,
            "justify_items": null,
            "left": null,
            "margin": null,
            "max_height": null,
            "max_width": null,
            "min_height": null,
            "min_width": null,
            "object_fit": null,
            "object_position": null,
            "order": null,
            "overflow": null,
            "overflow_x": null,
            "overflow_y": null,
            "padding": null,
            "right": null,
            "top": null,
            "visibility": null,
            "width": null
          }
        },
        "faedc1c253694e489ae80e4f0c935d16": {
          "model_module": "@jupyter-widgets/controls",
          "model_name": "DescriptionStyleModel",
          "model_module_version": "1.5.0",
          "state": {
            "_model_module": "@jupyter-widgets/controls",
            "_model_module_version": "1.5.0",
            "_model_name": "DescriptionStyleModel",
            "_view_count": null,
            "_view_module": "@jupyter-widgets/base",
            "_view_module_version": "1.2.0",
            "_view_name": "StyleView",
            "description_width": ""
          }
        },
        "bcbabf2873914d59a2ba25b4be89fff9": {
          "model_module": "@jupyter-widgets/base",
          "model_name": "LayoutModel",
          "model_module_version": "1.2.0",
          "state": {
            "_model_module": "@jupyter-widgets/base",
            "_model_module_version": "1.2.0",
            "_model_name": "LayoutModel",
            "_view_count": null,
            "_view_module": "@jupyter-widgets/base",
            "_view_module_version": "1.2.0",
            "_view_name": "LayoutView",
            "align_content": null,
            "align_items": null,
            "align_self": null,
            "border": null,
            "bottom": null,
            "display": null,
            "flex": null,
            "flex_flow": null,
            "grid_area": null,
            "grid_auto_columns": null,
            "grid_auto_flow": null,
            "grid_auto_rows": null,
            "grid_column": null,
            "grid_gap": null,
            "grid_row": null,
            "grid_template_areas": null,
            "grid_template_columns": null,
            "grid_template_rows": null,
            "height": null,
            "justify_content": null,
            "justify_items": null,
            "left": null,
            "margin": null,
            "max_height": null,
            "max_width": null,
            "min_height": null,
            "min_width": null,
            "object_fit": null,
            "object_position": null,
            "order": null,
            "overflow": null,
            "overflow_x": null,
            "overflow_y": null,
            "padding": null,
            "right": null,
            "top": null,
            "visibility": null,
            "width": null
          }
        },
        "10f5571a61184c0d82ad79f9487cc87c": {
          "model_module": "@jupyter-widgets/controls",
          "model_name": "DescriptionStyleModel",
          "model_module_version": "1.5.0",
          "state": {
            "_model_module": "@jupyter-widgets/controls",
            "_model_module_version": "1.5.0",
            "_model_name": "DescriptionStyleModel",
            "_view_count": null,
            "_view_module": "@jupyter-widgets/base",
            "_view_module_version": "1.2.0",
            "_view_name": "StyleView",
            "description_width": ""
          }
        },
        "30b6e62062744bc7ae48cad4fbf51a01": {
          "model_module": "@jupyter-widgets/base",
          "model_name": "LayoutModel",
          "model_module_version": "1.2.0",
          "state": {
            "_model_module": "@jupyter-widgets/base",
            "_model_module_version": "1.2.0",
            "_model_name": "LayoutModel",
            "_view_count": null,
            "_view_module": "@jupyter-widgets/base",
            "_view_module_version": "1.2.0",
            "_view_name": "LayoutView",
            "align_content": null,
            "align_items": null,
            "align_self": null,
            "border": null,
            "bottom": null,
            "display": null,
            "flex": null,
            "flex_flow": null,
            "grid_area": null,
            "grid_auto_columns": null,
            "grid_auto_flow": null,
            "grid_auto_rows": null,
            "grid_column": null,
            "grid_gap": null,
            "grid_row": null,
            "grid_template_areas": null,
            "grid_template_columns": null,
            "grid_template_rows": null,
            "height": null,
            "justify_content": null,
            "justify_items": null,
            "left": null,
            "margin": null,
            "max_height": null,
            "max_width": null,
            "min_height": null,
            "min_width": null,
            "object_fit": null,
            "object_position": null,
            "order": null,
            "overflow": null,
            "overflow_x": null,
            "overflow_y": null,
            "padding": null,
            "right": null,
            "top": null,
            "visibility": null,
            "width": null
          }
        },
        "1ceb55897c4644d3854d59ec5764b5cd": {
          "model_module": "@jupyter-widgets/controls",
          "model_name": "ButtonStyleModel",
          "model_module_version": "1.5.0",
          "state": {
            "_model_module": "@jupyter-widgets/controls",
            "_model_module_version": "1.5.0",
            "_model_name": "ButtonStyleModel",
            "_view_count": null,
            "_view_module": "@jupyter-widgets/base",
            "_view_module_version": "1.2.0",
            "_view_name": "StyleView",
            "button_color": null,
            "font_weight": ""
          }
        },
        "b4dc1c7ed9fc47ab8b55605716805afd": {
          "model_module": "@jupyter-widgets/base",
          "model_name": "LayoutModel",
          "model_module_version": "1.2.0",
          "state": {
            "_model_module": "@jupyter-widgets/base",
            "_model_module_version": "1.2.0",
            "_model_name": "LayoutModel",
            "_view_count": null,
            "_view_module": "@jupyter-widgets/base",
            "_view_module_version": "1.2.0",
            "_view_name": "LayoutView",
            "align_content": null,
            "align_items": null,
            "align_self": null,
            "border": null,
            "bottom": null,
            "display": null,
            "flex": null,
            "flex_flow": null,
            "grid_area": null,
            "grid_auto_columns": null,
            "grid_auto_flow": null,
            "grid_auto_rows": null,
            "grid_column": null,
            "grid_gap": null,
            "grid_row": null,
            "grid_template_areas": null,
            "grid_template_columns": null,
            "grid_template_rows": null,
            "height": null,
            "justify_content": null,
            "justify_items": null,
            "left": null,
            "margin": null,
            "max_height": null,
            "max_width": null,
            "min_height": null,
            "min_width": null,
            "object_fit": null,
            "object_position": null,
            "order": null,
            "overflow": null,
            "overflow_x": null,
            "overflow_y": null,
            "padding": null,
            "right": null,
            "top": null,
            "visibility": null,
            "width": null
          }
        },
        "c2742e176f69472b8b8b1391549c3401": {
          "model_module": "@jupyter-widgets/controls",
          "model_name": "DescriptionStyleModel",
          "model_module_version": "1.5.0",
          "state": {
            "_model_module": "@jupyter-widgets/controls",
            "_model_module_version": "1.5.0",
            "_model_name": "DescriptionStyleModel",
            "_view_count": null,
            "_view_module": "@jupyter-widgets/base",
            "_view_module_version": "1.2.0",
            "_view_name": "StyleView",
            "description_width": ""
          }
        },
        "e3bbedbfff0c43abb3b7a41290084dd8": {
          "model_module": "@jupyter-widgets/controls",
          "model_name": "LabelModel",
          "model_module_version": "1.5.0",
          "state": {
            "_dom_classes": [],
            "_model_module": "@jupyter-widgets/controls",
            "_model_module_version": "1.5.0",
            "_model_name": "LabelModel",
            "_view_count": null,
            "_view_module": "@jupyter-widgets/controls",
            "_view_module_version": "1.5.0",
            "_view_name": "LabelView",
            "description": "",
            "description_tooltip": null,
            "layout": "IPY_MODEL_92ae582e9e7e47f4912ce89c2d0ef972",
            "placeholder": "​",
            "style": "IPY_MODEL_8b20ca8cb10146e18d7e702791133c1f",
            "value": "Connecting..."
          }
        },
        "92ae582e9e7e47f4912ce89c2d0ef972": {
          "model_module": "@jupyter-widgets/base",
          "model_name": "LayoutModel",
          "model_module_version": "1.2.0",
          "state": {
            "_model_module": "@jupyter-widgets/base",
            "_model_module_version": "1.2.0",
            "_model_name": "LayoutModel",
            "_view_count": null,
            "_view_module": "@jupyter-widgets/base",
            "_view_module_version": "1.2.0",
            "_view_name": "LayoutView",
            "align_content": null,
            "align_items": null,
            "align_self": null,
            "border": null,
            "bottom": null,
            "display": null,
            "flex": null,
            "flex_flow": null,
            "grid_area": null,
            "grid_auto_columns": null,
            "grid_auto_flow": null,
            "grid_auto_rows": null,
            "grid_column": null,
            "grid_gap": null,
            "grid_row": null,
            "grid_template_areas": null,
            "grid_template_columns": null,
            "grid_template_rows": null,
            "height": null,
            "justify_content": null,
            "justify_items": null,
            "left": null,
            "margin": null,
            "max_height": null,
            "max_width": null,
            "min_height": null,
            "min_width": null,
            "object_fit": null,
            "object_position": null,
            "order": null,
            "overflow": null,
            "overflow_x": null,
            "overflow_y": null,
            "padding": null,
            "right": null,
            "top": null,
            "visibility": null,
            "width": null
          }
        },
        "8b20ca8cb10146e18d7e702791133c1f": {
          "model_module": "@jupyter-widgets/controls",
          "model_name": "DescriptionStyleModel",
          "model_module_version": "1.5.0",
          "state": {
            "_model_module": "@jupyter-widgets/controls",
            "_model_module_version": "1.5.0",
            "_model_name": "DescriptionStyleModel",
            "_view_count": null,
            "_view_module": "@jupyter-widgets/base",
            "_view_module_version": "1.2.0",
            "_view_name": "StyleView",
            "description_width": ""
          }
        },
        "3034b8d48ceb41be94a49105c9f88cdd": {
          "model_module": "@jupyter-widgets/controls",
          "model_name": "LabelModel",
          "model_module_version": "1.5.0",
          "state": {
            "_dom_classes": [],
            "_model_module": "@jupyter-widgets/controls",
            "_model_module_version": "1.5.0",
            "_model_name": "LabelModel",
            "_view_count": null,
            "_view_module": "@jupyter-widgets/controls",
            "_view_module_version": "1.5.0",
            "_view_name": "LabelView",
            "description": "",
            "description_tooltip": null,
            "layout": "IPY_MODEL_7fd0812a76ad42d08dede0c774897a62",
            "placeholder": "​",
            "style": "IPY_MODEL_0c1e059e2ce14114b60a25e209c7f2f9",
            "value": "Kaggle credentials successfully validated."
          }
        },
        "7fd0812a76ad42d08dede0c774897a62": {
          "model_module": "@jupyter-widgets/base",
          "model_name": "LayoutModel",
          "model_module_version": "1.2.0",
          "state": {
            "_model_module": "@jupyter-widgets/base",
            "_model_module_version": "1.2.0",
            "_model_name": "LayoutModel",
            "_view_count": null,
            "_view_module": "@jupyter-widgets/base",
            "_view_module_version": "1.2.0",
            "_view_name": "LayoutView",
            "align_content": null,
            "align_items": null,
            "align_self": null,
            "border": null,
            "bottom": null,
            "display": null,
            "flex": null,
            "flex_flow": null,
            "grid_area": null,
            "grid_auto_columns": null,
            "grid_auto_flow": null,
            "grid_auto_rows": null,
            "grid_column": null,
            "grid_gap": null,
            "grid_row": null,
            "grid_template_areas": null,
            "grid_template_columns": null,
            "grid_template_rows": null,
            "height": null,
            "justify_content": null,
            "justify_items": null,
            "left": null,
            "margin": null,
            "max_height": null,
            "max_width": null,
            "min_height": null,
            "min_width": null,
            "object_fit": null,
            "object_position": null,
            "order": null,
            "overflow": null,
            "overflow_x": null,
            "overflow_y": null,
            "padding": null,
            "right": null,
            "top": null,
            "visibility": null,
            "width": null
          }
        },
        "0c1e059e2ce14114b60a25e209c7f2f9": {
          "model_module": "@jupyter-widgets/controls",
          "model_name": "DescriptionStyleModel",
          "model_module_version": "1.5.0",
          "state": {
            "_model_module": "@jupyter-widgets/controls",
            "_model_module_version": "1.5.0",
            "_model_name": "DescriptionStyleModel",
            "_view_count": null,
            "_view_module": "@jupyter-widgets/base",
            "_view_module_version": "1.2.0",
            "_view_name": "StyleView",
            "description_width": ""
          }
        },
        "7fcad2509fec4861b60ec271d5edbf2e": {
          "model_module": "@jupyter-widgets/controls",
          "model_name": "VBoxModel",
          "model_module_version": "1.5.0",
          "state": {
            "_dom_classes": [],
            "_model_module": "@jupyter-widgets/controls",
            "_model_module_version": "1.5.0",
            "_model_name": "VBoxModel",
            "_view_count": null,
            "_view_module": "@jupyter-widgets/controls",
            "_view_module_version": "1.5.0",
            "_view_name": "VBoxView",
            "box_style": "",
            "children": [
              "IPY_MODEL_12ffcb4e4367467396eaa1298d36427d"
            ],
            "layout": "IPY_MODEL_af3113ba86ce491cb741f5bab9425cb2"
          }
        },
        "8567b763ac7344f6bba1f2d060e72fa7": {
          "model_module": "@jupyter-widgets/controls",
          "model_name": "HTMLModel",
          "model_module_version": "1.5.0",
          "state": {
            "_dom_classes": [],
            "_model_module": "@jupyter-widgets/controls",
            "_model_module_version": "1.5.0",
            "_model_name": "HTMLModel",
            "_view_count": null,
            "_view_module": "@jupyter-widgets/controls",
            "_view_module_version": "1.5.0",
            "_view_name": "HTMLView",
            "description": "",
            "description_tooltip": null,
            "layout": "IPY_MODEL_298142e537c84ae59ce66c79bf2c9db5",
            "placeholder": "​",
            "style": "IPY_MODEL_1a2cb45ffe1d4d6f9da0e52e3efc48ae",
            "value": "<center> <img\nsrc=https://www.kaggle.com/static/images/site-logo.png\nalt='Kaggle'> <br> Create an API token from <a\nhref=\"https://www.kaggle.com/settings/account\" target=\"_blank\">your Kaggle\nsettings page</a> and paste it below along with your Kaggle username. <br> </center>"
          }
        },
        "80cc7967f080463aa7a2770ff3827527": {
          "model_module": "@jupyter-widgets/controls",
          "model_name": "TextModel",
          "model_module_version": "1.5.0",
          "state": {
            "_dom_classes": [],
            "_model_module": "@jupyter-widgets/controls",
            "_model_module_version": "1.5.0",
            "_model_name": "TextModel",
            "_view_count": null,
            "_view_module": "@jupyter-widgets/controls",
            "_view_module_version": "1.5.0",
            "_view_name": "TextView",
            "continuous_update": true,
            "description": "Username:",
            "description_tooltip": null,
            "disabled": false,
            "layout": "IPY_MODEL_40170b2f567343a38778b834f3bc915a",
            "placeholder": "​",
            "style": "IPY_MODEL_6661f10907cd46a1b269ced403c27923",
            "value": "yeluripatisrividya"
          }
        },
        "33531fd5d3a844229281383c41cae134": {
          "model_module": "@jupyter-widgets/controls",
          "model_name": "PasswordModel",
          "model_module_version": "1.5.0",
          "state": {
            "_dom_classes": [],
            "_model_module": "@jupyter-widgets/controls",
            "_model_module_version": "1.5.0",
            "_model_name": "PasswordModel",
            "_view_count": null,
            "_view_module": "@jupyter-widgets/controls",
            "_view_module_version": "1.5.0",
            "_view_name": "PasswordView",
            "continuous_update": true,
            "description": "Token:",
            "description_tooltip": null,
            "disabled": false,
            "layout": "IPY_MODEL_fc76ee24fd0441eeb4184e1c9f2dc1c4",
            "placeholder": "​",
            "style": "IPY_MODEL_7621103789ba4db0a5b639d81ecfd593",
            "value": ""
          }
        },
        "1eed8a0ee65c4495b258ce68efafef39": {
          "model_module": "@jupyter-widgets/controls",
          "model_name": "ButtonModel",
          "model_module_version": "1.5.0",
          "state": {
            "_dom_classes": [],
            "_model_module": "@jupyter-widgets/controls",
            "_model_module_version": "1.5.0",
            "_model_name": "ButtonModel",
            "_view_count": null,
            "_view_module": "@jupyter-widgets/controls",
            "_view_module_version": "1.5.0",
            "_view_name": "ButtonView",
            "button_style": "",
            "description": "Login",
            "disabled": false,
            "icon": "",
            "layout": "IPY_MODEL_fefe075010d64edbb6732e8f91227307",
            "style": "IPY_MODEL_9e463749f9cb4ab1a1050dc8bdcd2b5a",
            "tooltip": ""
          }
        },
        "4bc5646fc01d4c82944be234a046c1e1": {
          "model_module": "@jupyter-widgets/controls",
          "model_name": "HTMLModel",
          "model_module_version": "1.5.0",
          "state": {
            "_dom_classes": [],
            "_model_module": "@jupyter-widgets/controls",
            "_model_module_version": "1.5.0",
            "_model_name": "HTMLModel",
            "_view_count": null,
            "_view_module": "@jupyter-widgets/controls",
            "_view_module_version": "1.5.0",
            "_view_name": "HTMLView",
            "description": "",
            "description_tooltip": null,
            "layout": "IPY_MODEL_4ad3629cdb804fed814ac73d69670714",
            "placeholder": "​",
            "style": "IPY_MODEL_f1f235f0f06246eb83bc55f886bedb20",
            "value": "\n<b>Thank You</b></center>"
          }
        },
        "af3113ba86ce491cb741f5bab9425cb2": {
          "model_module": "@jupyter-widgets/base",
          "model_name": "LayoutModel",
          "model_module_version": "1.2.0",
          "state": {
            "_model_module": "@jupyter-widgets/base",
            "_model_module_version": "1.2.0",
            "_model_name": "LayoutModel",
            "_view_count": null,
            "_view_module": "@jupyter-widgets/base",
            "_view_module_version": "1.2.0",
            "_view_name": "LayoutView",
            "align_content": null,
            "align_items": "center",
            "align_self": null,
            "border": null,
            "bottom": null,
            "display": "flex",
            "flex": null,
            "flex_flow": "column",
            "grid_area": null,
            "grid_auto_columns": null,
            "grid_auto_flow": null,
            "grid_auto_rows": null,
            "grid_column": null,
            "grid_gap": null,
            "grid_row": null,
            "grid_template_areas": null,
            "grid_template_columns": null,
            "grid_template_rows": null,
            "height": null,
            "justify_content": null,
            "justify_items": null,
            "left": null,
            "margin": null,
            "max_height": null,
            "max_width": null,
            "min_height": null,
            "min_width": null,
            "object_fit": null,
            "object_position": null,
            "order": null,
            "overflow": null,
            "overflow_x": null,
            "overflow_y": null,
            "padding": null,
            "right": null,
            "top": null,
            "visibility": null,
            "width": "50%"
          }
        },
        "298142e537c84ae59ce66c79bf2c9db5": {
          "model_module": "@jupyter-widgets/base",
          "model_name": "LayoutModel",
          "model_module_version": "1.2.0",
          "state": {
            "_model_module": "@jupyter-widgets/base",
            "_model_module_version": "1.2.0",
            "_model_name": "LayoutModel",
            "_view_count": null,
            "_view_module": "@jupyter-widgets/base",
            "_view_module_version": "1.2.0",
            "_view_name": "LayoutView",
            "align_content": null,
            "align_items": null,
            "align_self": null,
            "border": null,
            "bottom": null,
            "display": null,
            "flex": null,
            "flex_flow": null,
            "grid_area": null,
            "grid_auto_columns": null,
            "grid_auto_flow": null,
            "grid_auto_rows": null,
            "grid_column": null,
            "grid_gap": null,
            "grid_row": null,
            "grid_template_areas": null,
            "grid_template_columns": null,
            "grid_template_rows": null,
            "height": null,
            "justify_content": null,
            "justify_items": null,
            "left": null,
            "margin": null,
            "max_height": null,
            "max_width": null,
            "min_height": null,
            "min_width": null,
            "object_fit": null,
            "object_position": null,
            "order": null,
            "overflow": null,
            "overflow_x": null,
            "overflow_y": null,
            "padding": null,
            "right": null,
            "top": null,
            "visibility": null,
            "width": null
          }
        },
        "1a2cb45ffe1d4d6f9da0e52e3efc48ae": {
          "model_module": "@jupyter-widgets/controls",
          "model_name": "DescriptionStyleModel",
          "model_module_version": "1.5.0",
          "state": {
            "_model_module": "@jupyter-widgets/controls",
            "_model_module_version": "1.5.0",
            "_model_name": "DescriptionStyleModel",
            "_view_count": null,
            "_view_module": "@jupyter-widgets/base",
            "_view_module_version": "1.2.0",
            "_view_name": "StyleView",
            "description_width": ""
          }
        },
        "40170b2f567343a38778b834f3bc915a": {
          "model_module": "@jupyter-widgets/base",
          "model_name": "LayoutModel",
          "model_module_version": "1.2.0",
          "state": {
            "_model_module": "@jupyter-widgets/base",
            "_model_module_version": "1.2.0",
            "_model_name": "LayoutModel",
            "_view_count": null,
            "_view_module": "@jupyter-widgets/base",
            "_view_module_version": "1.2.0",
            "_view_name": "LayoutView",
            "align_content": null,
            "align_items": null,
            "align_self": null,
            "border": null,
            "bottom": null,
            "display": null,
            "flex": null,
            "flex_flow": null,
            "grid_area": null,
            "grid_auto_columns": null,
            "grid_auto_flow": null,
            "grid_auto_rows": null,
            "grid_column": null,
            "grid_gap": null,
            "grid_row": null,
            "grid_template_areas": null,
            "grid_template_columns": null,
            "grid_template_rows": null,
            "height": null,
            "justify_content": null,
            "justify_items": null,
            "left": null,
            "margin": null,
            "max_height": null,
            "max_width": null,
            "min_height": null,
            "min_width": null,
            "object_fit": null,
            "object_position": null,
            "order": null,
            "overflow": null,
            "overflow_x": null,
            "overflow_y": null,
            "padding": null,
            "right": null,
            "top": null,
            "visibility": null,
            "width": null
          }
        },
        "6661f10907cd46a1b269ced403c27923": {
          "model_module": "@jupyter-widgets/controls",
          "model_name": "DescriptionStyleModel",
          "model_module_version": "1.5.0",
          "state": {
            "_model_module": "@jupyter-widgets/controls",
            "_model_module_version": "1.5.0",
            "_model_name": "DescriptionStyleModel",
            "_view_count": null,
            "_view_module": "@jupyter-widgets/base",
            "_view_module_version": "1.2.0",
            "_view_name": "StyleView",
            "description_width": ""
          }
        },
        "fc76ee24fd0441eeb4184e1c9f2dc1c4": {
          "model_module": "@jupyter-widgets/base",
          "model_name": "LayoutModel",
          "model_module_version": "1.2.0",
          "state": {
            "_model_module": "@jupyter-widgets/base",
            "_model_module_version": "1.2.0",
            "_model_name": "LayoutModel",
            "_view_count": null,
            "_view_module": "@jupyter-widgets/base",
            "_view_module_version": "1.2.0",
            "_view_name": "LayoutView",
            "align_content": null,
            "align_items": null,
            "align_self": null,
            "border": null,
            "bottom": null,
            "display": null,
            "flex": null,
            "flex_flow": null,
            "grid_area": null,
            "grid_auto_columns": null,
            "grid_auto_flow": null,
            "grid_auto_rows": null,
            "grid_column": null,
            "grid_gap": null,
            "grid_row": null,
            "grid_template_areas": null,
            "grid_template_columns": null,
            "grid_template_rows": null,
            "height": null,
            "justify_content": null,
            "justify_items": null,
            "left": null,
            "margin": null,
            "max_height": null,
            "max_width": null,
            "min_height": null,
            "min_width": null,
            "object_fit": null,
            "object_position": null,
            "order": null,
            "overflow": null,
            "overflow_x": null,
            "overflow_y": null,
            "padding": null,
            "right": null,
            "top": null,
            "visibility": null,
            "width": null
          }
        },
        "7621103789ba4db0a5b639d81ecfd593": {
          "model_module": "@jupyter-widgets/controls",
          "model_name": "DescriptionStyleModel",
          "model_module_version": "1.5.0",
          "state": {
            "_model_module": "@jupyter-widgets/controls",
            "_model_module_version": "1.5.0",
            "_model_name": "DescriptionStyleModel",
            "_view_count": null,
            "_view_module": "@jupyter-widgets/base",
            "_view_module_version": "1.2.0",
            "_view_name": "StyleView",
            "description_width": ""
          }
        },
        "fefe075010d64edbb6732e8f91227307": {
          "model_module": "@jupyter-widgets/base",
          "model_name": "LayoutModel",
          "model_module_version": "1.2.0",
          "state": {
            "_model_module": "@jupyter-widgets/base",
            "_model_module_version": "1.2.0",
            "_model_name": "LayoutModel",
            "_view_count": null,
            "_view_module": "@jupyter-widgets/base",
            "_view_module_version": "1.2.0",
            "_view_name": "LayoutView",
            "align_content": null,
            "align_items": null,
            "align_self": null,
            "border": null,
            "bottom": null,
            "display": null,
            "flex": null,
            "flex_flow": null,
            "grid_area": null,
            "grid_auto_columns": null,
            "grid_auto_flow": null,
            "grid_auto_rows": null,
            "grid_column": null,
            "grid_gap": null,
            "grid_row": null,
            "grid_template_areas": null,
            "grid_template_columns": null,
            "grid_template_rows": null,
            "height": null,
            "justify_content": null,
            "justify_items": null,
            "left": null,
            "margin": null,
            "max_height": null,
            "max_width": null,
            "min_height": null,
            "min_width": null,
            "object_fit": null,
            "object_position": null,
            "order": null,
            "overflow": null,
            "overflow_x": null,
            "overflow_y": null,
            "padding": null,
            "right": null,
            "top": null,
            "visibility": null,
            "width": null
          }
        },
        "9e463749f9cb4ab1a1050dc8bdcd2b5a": {
          "model_module": "@jupyter-widgets/controls",
          "model_name": "ButtonStyleModel",
          "model_module_version": "1.5.0",
          "state": {
            "_model_module": "@jupyter-widgets/controls",
            "_model_module_version": "1.5.0",
            "_model_name": "ButtonStyleModel",
            "_view_count": null,
            "_view_module": "@jupyter-widgets/base",
            "_view_module_version": "1.2.0",
            "_view_name": "StyleView",
            "button_color": null,
            "font_weight": ""
          }
        },
        "4ad3629cdb804fed814ac73d69670714": {
          "model_module": "@jupyter-widgets/base",
          "model_name": "LayoutModel",
          "model_module_version": "1.2.0",
          "state": {
            "_model_module": "@jupyter-widgets/base",
            "_model_module_version": "1.2.0",
            "_model_name": "LayoutModel",
            "_view_count": null,
            "_view_module": "@jupyter-widgets/base",
            "_view_module_version": "1.2.0",
            "_view_name": "LayoutView",
            "align_content": null,
            "align_items": null,
            "align_self": null,
            "border": null,
            "bottom": null,
            "display": null,
            "flex": null,
            "flex_flow": null,
            "grid_area": null,
            "grid_auto_columns": null,
            "grid_auto_flow": null,
            "grid_auto_rows": null,
            "grid_column": null,
            "grid_gap": null,
            "grid_row": null,
            "grid_template_areas": null,
            "grid_template_columns": null,
            "grid_template_rows": null,
            "height": null,
            "justify_content": null,
            "justify_items": null,
            "left": null,
            "margin": null,
            "max_height": null,
            "max_width": null,
            "min_height": null,
            "min_width": null,
            "object_fit": null,
            "object_position": null,
            "order": null,
            "overflow": null,
            "overflow_x": null,
            "overflow_y": null,
            "padding": null,
            "right": null,
            "top": null,
            "visibility": null,
            "width": null
          }
        },
        "f1f235f0f06246eb83bc55f886bedb20": {
          "model_module": "@jupyter-widgets/controls",
          "model_name": "DescriptionStyleModel",
          "model_module_version": "1.5.0",
          "state": {
            "_model_module": "@jupyter-widgets/controls",
            "_model_module_version": "1.5.0",
            "_model_name": "DescriptionStyleModel",
            "_view_count": null,
            "_view_module": "@jupyter-widgets/base",
            "_view_module_version": "1.2.0",
            "_view_name": "StyleView",
            "description_width": ""
          }
        },
        "9b311d0e8ab54d2ca92743f8b4ec47a3": {
          "model_module": "@jupyter-widgets/controls",
          "model_name": "LabelModel",
          "model_module_version": "1.5.0",
          "state": {
            "_dom_classes": [],
            "_model_module": "@jupyter-widgets/controls",
            "_model_module_version": "1.5.0",
            "_model_name": "LabelModel",
            "_view_count": null,
            "_view_module": "@jupyter-widgets/controls",
            "_view_module_version": "1.5.0",
            "_view_name": "LabelView",
            "description": "",
            "description_tooltip": null,
            "layout": "IPY_MODEL_3c1beeedc43c44b1a486ae59e38725e7",
            "placeholder": "​",
            "style": "IPY_MODEL_69d106dd9bb549bebd5833d475e834b0",
            "value": "Connecting..."
          }
        },
        "3c1beeedc43c44b1a486ae59e38725e7": {
          "model_module": "@jupyter-widgets/base",
          "model_name": "LayoutModel",
          "model_module_version": "1.2.0",
          "state": {
            "_model_module": "@jupyter-widgets/base",
            "_model_module_version": "1.2.0",
            "_model_name": "LayoutModel",
            "_view_count": null,
            "_view_module": "@jupyter-widgets/base",
            "_view_module_version": "1.2.0",
            "_view_name": "LayoutView",
            "align_content": null,
            "align_items": null,
            "align_self": null,
            "border": null,
            "bottom": null,
            "display": null,
            "flex": null,
            "flex_flow": null,
            "grid_area": null,
            "grid_auto_columns": null,
            "grid_auto_flow": null,
            "grid_auto_rows": null,
            "grid_column": null,
            "grid_gap": null,
            "grid_row": null,
            "grid_template_areas": null,
            "grid_template_columns": null,
            "grid_template_rows": null,
            "height": null,
            "justify_content": null,
            "justify_items": null,
            "left": null,
            "margin": null,
            "max_height": null,
            "max_width": null,
            "min_height": null,
            "min_width": null,
            "object_fit": null,
            "object_position": null,
            "order": null,
            "overflow": null,
            "overflow_x": null,
            "overflow_y": null,
            "padding": null,
            "right": null,
            "top": null,
            "visibility": null,
            "width": null
          }
        },
        "69d106dd9bb549bebd5833d475e834b0": {
          "model_module": "@jupyter-widgets/controls",
          "model_name": "DescriptionStyleModel",
          "model_module_version": "1.5.0",
          "state": {
            "_model_module": "@jupyter-widgets/controls",
            "_model_module_version": "1.5.0",
            "_model_name": "DescriptionStyleModel",
            "_view_count": null,
            "_view_module": "@jupyter-widgets/base",
            "_view_module_version": "1.2.0",
            "_view_name": "StyleView",
            "description_width": ""
          }
        },
        "12ffcb4e4367467396eaa1298d36427d": {
          "model_module": "@jupyter-widgets/controls",
          "model_name": "LabelModel",
          "model_module_version": "1.5.0",
          "state": {
            "_dom_classes": [],
            "_model_module": "@jupyter-widgets/controls",
            "_model_module_version": "1.5.0",
            "_model_name": "LabelModel",
            "_view_count": null,
            "_view_module": "@jupyter-widgets/controls",
            "_view_module_version": "1.5.0",
            "_view_name": "LabelView",
            "description": "",
            "description_tooltip": null,
            "layout": "IPY_MODEL_51504e412a414b228fff7965c365c78e",
            "placeholder": "​",
            "style": "IPY_MODEL_0485034a0bd2428a93dbc26d463170ff",
            "value": "Kaggle credentials successfully validated."
          }
        },
        "51504e412a414b228fff7965c365c78e": {
          "model_module": "@jupyter-widgets/base",
          "model_name": "LayoutModel",
          "model_module_version": "1.2.0",
          "state": {
            "_model_module": "@jupyter-widgets/base",
            "_model_module_version": "1.2.0",
            "_model_name": "LayoutModel",
            "_view_count": null,
            "_view_module": "@jupyter-widgets/base",
            "_view_module_version": "1.2.0",
            "_view_name": "LayoutView",
            "align_content": null,
            "align_items": null,
            "align_self": null,
            "border": null,
            "bottom": null,
            "display": null,
            "flex": null,
            "flex_flow": null,
            "grid_area": null,
            "grid_auto_columns": null,
            "grid_auto_flow": null,
            "grid_auto_rows": null,
            "grid_column": null,
            "grid_gap": null,
            "grid_row": null,
            "grid_template_areas": null,
            "grid_template_columns": null,
            "grid_template_rows": null,
            "height": null,
            "justify_content": null,
            "justify_items": null,
            "left": null,
            "margin": null,
            "max_height": null,
            "max_width": null,
            "min_height": null,
            "min_width": null,
            "object_fit": null,
            "object_position": null,
            "order": null,
            "overflow": null,
            "overflow_x": null,
            "overflow_y": null,
            "padding": null,
            "right": null,
            "top": null,
            "visibility": null,
            "width": null
          }
        },
        "0485034a0bd2428a93dbc26d463170ff": {
          "model_module": "@jupyter-widgets/controls",
          "model_name": "DescriptionStyleModel",
          "model_module_version": "1.5.0",
          "state": {
            "_model_module": "@jupyter-widgets/controls",
            "_model_module_version": "1.5.0",
            "_model_name": "DescriptionStyleModel",
            "_view_count": null,
            "_view_module": "@jupyter-widgets/base",
            "_view_module_version": "1.2.0",
            "_view_name": "StyleView",
            "description_width": ""
          }
        }
      }
    }
  },
  "nbformat_minor": 0,
  "nbformat": 4,
  "cells": [
    {
      "cell_type": "markdown",
      "metadata": {
        "id": "view-in-github",
        "colab_type": "text"
      },
      "source": [
        "<a href=\"https://colab.research.google.com/github/SriVidyaYeluripati/SITTA/blob/Vidya/SITTA_implmentation.ipynb\" target=\"_parent\"><img src=\"https://colab.research.google.com/assets/colab-badge.svg\" alt=\"Open In Colab\"/></a>"
      ]
    },
    {
      "source": [
        "# IMPORTANT: SOME KAGGLE DATA SOURCES ARE PRIVATE\n",
        "# RUN THIS CELL IN ORDER TO IMPORT YOUR KAGGLE DATA SOURCES.\n",
        "import kagglehub\n",
        "kagglehub.login()\n"
      ],
      "metadata": {
        "colab": {
          "base_uri": "https://localhost:8080/",
          "height": 84,
          "referenced_widgets": [
            "bfa4f07df98e4912a43bb4866d03b663",
            "d68acaa65585447fa5ac7aa2485eb734",
            "ab1b45b59eba474393c7672d2d61af5e",
            "6059cb12f80c43e8a8cd2c7ce634be15",
            "4f448555acdd4361a9a2270c118b0198",
            "342c3fc11a1d4498b1adf6c260019e18",
            "d45553f17e1347449c39e3a09687a686",
            "a078385ed20a4b46aa219bc9bb304fb3",
            "459536c989b54aab8074decec5b2f47f",
            "658faaec4ade4d6cb4e92f45cf2d53ae",
            "faedc1c253694e489ae80e4f0c935d16",
            "bcbabf2873914d59a2ba25b4be89fff9",
            "10f5571a61184c0d82ad79f9487cc87c",
            "30b6e62062744bc7ae48cad4fbf51a01",
            "1ceb55897c4644d3854d59ec5764b5cd",
            "b4dc1c7ed9fc47ab8b55605716805afd",
            "c2742e176f69472b8b8b1391549c3401",
            "e3bbedbfff0c43abb3b7a41290084dd8",
            "92ae582e9e7e47f4912ce89c2d0ef972",
            "8b20ca8cb10146e18d7e702791133c1f",
            "3034b8d48ceb41be94a49105c9f88cdd",
            "7fd0812a76ad42d08dede0c774897a62",
            "0c1e059e2ce14114b60a25e209c7f2f9"
          ]
        },
        "id": "6Wx9s7etL7pe",
        "outputId": "55e29a51-9feb-4a89-8663-f02d29ceb574"
      },
      "cell_type": "code",
      "outputs": [
        {
          "output_type": "display_data",
          "data": {
            "text/plain": [
              "VBox(children=(HTML(value='<center> <img\\nsrc=https://www.kaggle.com/static/images/site-logo.png\\nalt=\\'Kaggle…"
            ],
            "application/vnd.jupyter.widget-view+json": {
              "version_major": 2,
              "version_minor": 0,
              "model_id": "bfa4f07df98e4912a43bb4866d03b663"
            }
          },
          "metadata": {}
        },
        {
          "output_type": "stream",
          "name": "stdout",
          "text": [
            "Kaggle credentials set.\n",
            "Kaggle credentials successfully validated.\n"
          ]
        }
      ],
      "execution_count": 9
    },
    {
      "source": [
        "from IPython import get_ipython\n",
        "from IPython.display import display\n",
        "import kagglehub\n",
        "kagglehub.login()\n",
        "yeluripatisrividya_plant_pathology_sitta_path = kagglehub.dataset_download('yeluripatisrividya/plant-pathology-sitta')"
      ],
      "metadata": {
        "colab": {
          "base_uri": "https://localhost:8080/",
          "height": 156,
          "referenced_widgets": [
            "7fcad2509fec4861b60ec271d5edbf2e",
            "8567b763ac7344f6bba1f2d060e72fa7",
            "80cc7967f080463aa7a2770ff3827527",
            "33531fd5d3a844229281383c41cae134",
            "1eed8a0ee65c4495b258ce68efafef39",
            "4bc5646fc01d4c82944be234a046c1e1",
            "af3113ba86ce491cb741f5bab9425cb2",
            "298142e537c84ae59ce66c79bf2c9db5",
            "1a2cb45ffe1d4d6f9da0e52e3efc48ae",
            "40170b2f567343a38778b834f3bc915a",
            "6661f10907cd46a1b269ced403c27923",
            "fc76ee24fd0441eeb4184e1c9f2dc1c4",
            "7621103789ba4db0a5b639d81ecfd593",
            "fefe075010d64edbb6732e8f91227307",
            "9e463749f9cb4ab1a1050dc8bdcd2b5a",
            "4ad3629cdb804fed814ac73d69670714",
            "f1f235f0f06246eb83bc55f886bedb20",
            "9b311d0e8ab54d2ca92743f8b4ec47a3",
            "3c1beeedc43c44b1a486ae59e38725e7",
            "69d106dd9bb549bebd5833d475e834b0",
            "12ffcb4e4367467396eaa1298d36427d",
            "51504e412a414b228fff7965c365c78e",
            "0485034a0bd2428a93dbc26d463170ff"
          ]
        },
        "id": "2L5VIvQ_L7pg",
        "outputId": "38ffc5e7-ae0f-46be-b842-d5b17883ff23"
      },
      "cell_type": "code",
      "outputs": [
        {
          "output_type": "display_data",
          "data": {
            "text/plain": [
              "VBox(children=(HTML(value='<center> <img\\nsrc=https://www.kaggle.com/static/images/site-logo.png\\nalt=\\'Kaggle…"
            ],
            "application/vnd.jupyter.widget-view+json": {
              "version_major": 2,
              "version_minor": 0,
              "model_id": "7fcad2509fec4861b60ec271d5edbf2e"
            }
          },
          "metadata": {}
        },
        {
          "output_type": "stream",
          "name": "stdout",
          "text": [
            "Downloading from https://www.kaggle.com/api/v1/datasets/download/yeluripatisrividya/plant-pathology-sitta?dataset_version_number=1...\n"
          ]
        },
        {
          "output_type": "stream",
          "name": "stderr",
          "text": [
            "100%|██████████| 779M/779M [00:39<00:00, 20.8MB/s]"
          ]
        },
        {
          "output_type": "stream",
          "name": "stdout",
          "text": [
            "Extracting files...\n"
          ]
        },
        {
          "output_type": "stream",
          "name": "stderr",
          "text": [
            "\n"
          ]
        },
        {
          "output_type": "stream",
          "name": "stdout",
          "text": [
            "Kaggle credentials set.\n",
            "Kaggle credentials successfully validated.\n"
          ]
        }
      ],
      "execution_count": 10
    },
    {
      "cell_type": "code",
      "source": [
        "print(yeluripatisrividya_plant_pathology_sitta_path)"
      ],
      "metadata": {
        "colab": {
          "base_uri": "https://localhost:8080/"
        },
        "id": "n2yI5Q2VSDfx",
        "outputId": "c9d267c0-770c-4103-eb94-0be21d6df43b"
      },
      "execution_count": 11,
      "outputs": [
        {
          "output_type": "stream",
          "name": "stdout",
          "text": [
            "/root/.cache/kagglehub/datasets/yeluripatisrividya/plant-pathology-sitta/versions/1\n"
          ]
        }
      ]
    },
    {
      "cell_type": "code",
      "source": [
        "!ls -l"
      ],
      "metadata": {
        "_uuid": "a01a2a45-e80c-44e1-b0b1-9b3b6ea65e54",
        "_cell_guid": "29d4b66b-d6b1-4947-a8f3-d1e2bf865c3b",
        "trusted": true,
        "jupyter": {
          "outputs_hidden": false
        },
        "execution": {
          "iopub.status.busy": "2025-03-05T18:53:20.347481Z",
          "iopub.execute_input": "2025-03-05T18:53:20.347774Z",
          "iopub.status.idle": "2025-03-05T18:53:20.468901Z",
          "shell.execute_reply.started": "2025-03-05T18:53:20.347752Z",
          "shell.execute_reply": "2025-03-05T18:53:20.467989Z"
        },
        "colab": {
          "base_uri": "https://localhost:8080/"
        },
        "id": "V7S6hPtYL7pi",
        "outputId": "b971e83a-f7a8-4415-ebd0-d048648cf0a2"
      },
      "outputs": [
        {
          "output_type": "stream",
          "name": "stdout",
          "text": [
            "total 4\n",
            "drwxr-xr-x 1 root root 4096 Mar  4 14:26 sample_data\n"
          ]
        }
      ],
      "execution_count": 5
    },
    {
      "cell_type": "code",
      "source": [
        "!pip install torch torchvision numpy pyyaml opencv-python matplotlib tqdm"
      ],
      "metadata": {
        "_uuid": "6691d551-52d3-4deb-a156-89e4f2aba2fb",
        "_cell_guid": "7a5f8de6-24d3-4d4c-b36b-92755a81e1fb",
        "trusted": true,
        "jupyter": {
          "outputs_hidden": false
        },
        "colab": {
          "base_uri": "https://localhost:8080/"
        },
        "id": "GXq7GZc2L7pi",
        "outputId": "361ba778-5d16-4952-f90f-c40c6fcccd7b"
      },
      "outputs": [
        {
          "output_type": "stream",
          "name": "stdout",
          "text": [
            "Requirement already satisfied: torch in /usr/local/lib/python3.11/dist-packages (2.5.1+cu124)\n",
            "Requirement already satisfied: torchvision in /usr/local/lib/python3.11/dist-packages (0.20.1+cu124)\n",
            "Requirement already satisfied: numpy in /usr/local/lib/python3.11/dist-packages (1.26.4)\n",
            "Requirement already satisfied: pyyaml in /usr/local/lib/python3.11/dist-packages (6.0.2)\n",
            "Requirement already satisfied: opencv-python in /usr/local/lib/python3.11/dist-packages (4.11.0.86)\n",
            "Requirement already satisfied: matplotlib in /usr/local/lib/python3.11/dist-packages (3.10.0)\n",
            "Requirement already satisfied: tqdm in /usr/local/lib/python3.11/dist-packages (4.67.1)\n",
            "Requirement already satisfied: filelock in /usr/local/lib/python3.11/dist-packages (from torch) (3.17.0)\n",
            "Requirement already satisfied: typing-extensions>=4.8.0 in /usr/local/lib/python3.11/dist-packages (from torch) (4.12.2)\n",
            "Requirement already satisfied: networkx in /usr/local/lib/python3.11/dist-packages (from torch) (3.4.2)\n",
            "Requirement already satisfied: jinja2 in /usr/local/lib/python3.11/dist-packages (from torch) (3.1.5)\n",
            "Requirement already satisfied: fsspec in /usr/local/lib/python3.11/dist-packages (from torch) (2024.10.0)\n",
            "Collecting nvidia-cuda-nvrtc-cu12==12.4.127 (from torch)\n",
            "  Downloading nvidia_cuda_nvrtc_cu12-12.4.127-py3-none-manylinux2014_x86_64.whl.metadata (1.5 kB)\n",
            "Collecting nvidia-cuda-runtime-cu12==12.4.127 (from torch)\n",
            "  Downloading nvidia_cuda_runtime_cu12-12.4.127-py3-none-manylinux2014_x86_64.whl.metadata (1.5 kB)\n",
            "Collecting nvidia-cuda-cupti-cu12==12.4.127 (from torch)\n",
            "  Downloading nvidia_cuda_cupti_cu12-12.4.127-py3-none-manylinux2014_x86_64.whl.metadata (1.6 kB)\n",
            "Collecting nvidia-cudnn-cu12==9.1.0.70 (from torch)\n",
            "  Downloading nvidia_cudnn_cu12-9.1.0.70-py3-none-manylinux2014_x86_64.whl.metadata (1.6 kB)\n",
            "Collecting nvidia-cublas-cu12==12.4.5.8 (from torch)\n",
            "  Downloading nvidia_cublas_cu12-12.4.5.8-py3-none-manylinux2014_x86_64.whl.metadata (1.5 kB)\n",
            "Collecting nvidia-cufft-cu12==11.2.1.3 (from torch)\n",
            "  Downloading nvidia_cufft_cu12-11.2.1.3-py3-none-manylinux2014_x86_64.whl.metadata (1.5 kB)\n",
            "Collecting nvidia-curand-cu12==10.3.5.147 (from torch)\n",
            "  Downloading nvidia_curand_cu12-10.3.5.147-py3-none-manylinux2014_x86_64.whl.metadata (1.5 kB)\n",
            "Collecting nvidia-cusolver-cu12==11.6.1.9 (from torch)\n",
            "  Downloading nvidia_cusolver_cu12-11.6.1.9-py3-none-manylinux2014_x86_64.whl.metadata (1.6 kB)\n",
            "Collecting nvidia-cusparse-cu12==12.3.1.170 (from torch)\n",
            "  Downloading nvidia_cusparse_cu12-12.3.1.170-py3-none-manylinux2014_x86_64.whl.metadata (1.6 kB)\n",
            "Requirement already satisfied: nvidia-nccl-cu12==2.21.5 in /usr/local/lib/python3.11/dist-packages (from torch) (2.21.5)\n",
            "Requirement already satisfied: nvidia-nvtx-cu12==12.4.127 in /usr/local/lib/python3.11/dist-packages (from torch) (12.4.127)\n",
            "Collecting nvidia-nvjitlink-cu12==12.4.127 (from torch)\n",
            "  Downloading nvidia_nvjitlink_cu12-12.4.127-py3-none-manylinux2014_x86_64.whl.metadata (1.5 kB)\n",
            "Requirement already satisfied: triton==3.1.0 in /usr/local/lib/python3.11/dist-packages (from torch) (3.1.0)\n",
            "Requirement already satisfied: sympy==1.13.1 in /usr/local/lib/python3.11/dist-packages (from torch) (1.13.1)\n",
            "Requirement already satisfied: mpmath<1.4,>=1.1.0 in /usr/local/lib/python3.11/dist-packages (from sympy==1.13.1->torch) (1.3.0)\n",
            "Requirement already satisfied: pillow!=8.3.*,>=5.3.0 in /usr/local/lib/python3.11/dist-packages (from torchvision) (11.1.0)\n",
            "Requirement already satisfied: contourpy>=1.0.1 in /usr/local/lib/python3.11/dist-packages (from matplotlib) (1.3.1)\n",
            "Requirement already satisfied: cycler>=0.10 in /usr/local/lib/python3.11/dist-packages (from matplotlib) (0.12.1)\n",
            "Requirement already satisfied: fonttools>=4.22.0 in /usr/local/lib/python3.11/dist-packages (from matplotlib) (4.56.0)\n",
            "Requirement already satisfied: kiwisolver>=1.3.1 in /usr/local/lib/python3.11/dist-packages (from matplotlib) (1.4.8)\n",
            "Requirement already satisfied: packaging>=20.0 in /usr/local/lib/python3.11/dist-packages (from matplotlib) (24.2)\n",
            "Requirement already satisfied: pyparsing>=2.3.1 in /usr/local/lib/python3.11/dist-packages (from matplotlib) (3.2.1)\n",
            "Requirement already satisfied: python-dateutil>=2.7 in /usr/local/lib/python3.11/dist-packages (from matplotlib) (2.8.2)\n",
            "Requirement already satisfied: six>=1.5 in /usr/local/lib/python3.11/dist-packages (from python-dateutil>=2.7->matplotlib) (1.17.0)\n",
            "Requirement already satisfied: MarkupSafe>=2.0 in /usr/local/lib/python3.11/dist-packages (from jinja2->torch) (3.0.2)\n",
            "Downloading nvidia_cublas_cu12-12.4.5.8-py3-none-manylinux2014_x86_64.whl (363.4 MB)\n",
            "\u001b[2K   \u001b[90m━━━━━━━━━━━━━━━━━━━━━━━━━━━━━━━━━━━━━━━━\u001b[0m \u001b[32m363.4/363.4 MB\u001b[0m \u001b[31m4.1 MB/s\u001b[0m eta \u001b[36m0:00:00\u001b[0m\n",
            "\u001b[?25hDownloading nvidia_cuda_cupti_cu12-12.4.127-py3-none-manylinux2014_x86_64.whl (13.8 MB)\n",
            "\u001b[2K   \u001b[90m━━━━━━━━━━━━━━━━━━━━━━━━━━━━━━━━━━━━━━━━\u001b[0m \u001b[32m13.8/13.8 MB\u001b[0m \u001b[31m75.4 MB/s\u001b[0m eta \u001b[36m0:00:00\u001b[0m\n",
            "\u001b[?25hDownloading nvidia_cuda_nvrtc_cu12-12.4.127-py3-none-manylinux2014_x86_64.whl (24.6 MB)\n",
            "\u001b[2K   \u001b[90m━━━━━━━━━━━━━━━━━━━━━━━━━━━━━━━━━━━━━━━━\u001b[0m \u001b[32m24.6/24.6 MB\u001b[0m \u001b[31m85.1 MB/s\u001b[0m eta \u001b[36m0:00:00\u001b[0m\n",
            "\u001b[?25hDownloading nvidia_cuda_runtime_cu12-12.4.127-py3-none-manylinux2014_x86_64.whl (883 kB)\n",
            "\u001b[2K   \u001b[90m━━━━━━━━━━━━━━━━━━━━━━━━━━━━━━━━━━━━━━━━\u001b[0m \u001b[32m883.7/883.7 kB\u001b[0m \u001b[31m55.4 MB/s\u001b[0m eta \u001b[36m0:00:00\u001b[0m\n",
            "\u001b[?25hDownloading nvidia_cudnn_cu12-9.1.0.70-py3-none-manylinux2014_x86_64.whl (664.8 MB)\n",
            "\u001b[2K   \u001b[90m━━━━━━━━━━━━━━━━━━━━━━━━━━━━━━━━━━━━━━━━\u001b[0m \u001b[32m664.8/664.8 MB\u001b[0m \u001b[31m1.6 MB/s\u001b[0m eta \u001b[36m0:00:00\u001b[0m\n",
            "\u001b[?25hDownloading nvidia_cufft_cu12-11.2.1.3-py3-none-manylinux2014_x86_64.whl (211.5 MB)\n",
            "\u001b[2K   \u001b[90m━━━━━━━━━━━━━━━━━━━━━━━━━━━━━━━━━━━━━━━━\u001b[0m \u001b[32m211.5/211.5 MB\u001b[0m \u001b[31m10.7 MB/s\u001b[0m eta \u001b[36m0:00:00\u001b[0m\n",
            "\u001b[?25hDownloading nvidia_curand_cu12-10.3.5.147-py3-none-manylinux2014_x86_64.whl (56.3 MB)\n",
            "\u001b[2K   \u001b[90m━━━━━━━━━━━━━━━━━━━━━━━━━━━━━━━━━━━━━━━━\u001b[0m \u001b[32m56.3/56.3 MB\u001b[0m \u001b[31m39.8 MB/s\u001b[0m eta \u001b[36m0:00:00\u001b[0m\n",
            "\u001b[?25hDownloading nvidia_cusolver_cu12-11.6.1.9-py3-none-manylinux2014_x86_64.whl (127.9 MB)\n",
            "\u001b[2K   \u001b[90m━━━━━━━━━━━━━━━━━━━━━━━━━━━━━━━━━━━━━━━━\u001b[0m \u001b[32m127.9/127.9 MB\u001b[0m \u001b[31m17.7 MB/s\u001b[0m eta \u001b[36m0:00:00\u001b[0m\n",
            "\u001b[?25hDownloading nvidia_cusparse_cu12-12.3.1.170-py3-none-manylinux2014_x86_64.whl (207.5 MB)\n",
            "\u001b[2K   \u001b[90m━━━━━━━━━━━━━━━━━━━━━━━━━━━━━━━━━━━━━━━━\u001b[0m \u001b[32m207.5/207.5 MB\u001b[0m \u001b[31m3.6 MB/s\u001b[0m eta \u001b[36m0:00:00\u001b[0m\n",
            "\u001b[?25hDownloading nvidia_nvjitlink_cu12-12.4.127-py3-none-manylinux2014_x86_64.whl (21.1 MB)\n",
            "\u001b[2K   \u001b[90m━━━━━━━━━━━━━━━━━━━━━━━━━━━━━━━━━━━━━━━━\u001b[0m \u001b[32m21.1/21.1 MB\u001b[0m \u001b[31m14.5 MB/s\u001b[0m eta \u001b[36m0:00:00\u001b[0m\n",
            "\u001b[?25hInstalling collected packages: nvidia-nvjitlink-cu12, nvidia-curand-cu12, nvidia-cufft-cu12, nvidia-cuda-runtime-cu12, nvidia-cuda-nvrtc-cu12, nvidia-cuda-cupti-cu12, nvidia-cublas-cu12, nvidia-cusparse-cu12, nvidia-cudnn-cu12, nvidia-cusolver-cu12\n",
            "  Attempting uninstall: nvidia-nvjitlink-cu12\n",
            "    Found existing installation: nvidia-nvjitlink-cu12 12.5.82\n",
            "    Uninstalling nvidia-nvjitlink-cu12-12.5.82:\n",
            "      Successfully uninstalled nvidia-nvjitlink-cu12-12.5.82\n",
            "  Attempting uninstall: nvidia-curand-cu12\n",
            "    Found existing installation: nvidia-curand-cu12 10.3.6.82\n",
            "    Uninstalling nvidia-curand-cu12-10.3.6.82:\n",
            "      Successfully uninstalled nvidia-curand-cu12-10.3.6.82\n",
            "  Attempting uninstall: nvidia-cufft-cu12\n",
            "    Found existing installation: nvidia-cufft-cu12 11.2.3.61\n",
            "    Uninstalling nvidia-cufft-cu12-11.2.3.61:\n",
            "      Successfully uninstalled nvidia-cufft-cu12-11.2.3.61\n",
            "  Attempting uninstall: nvidia-cuda-runtime-cu12\n",
            "    Found existing installation: nvidia-cuda-runtime-cu12 12.5.82\n",
            "    Uninstalling nvidia-cuda-runtime-cu12-12.5.82:\n",
            "      Successfully uninstalled nvidia-cuda-runtime-cu12-12.5.82\n",
            "  Attempting uninstall: nvidia-cuda-nvrtc-cu12\n",
            "    Found existing installation: nvidia-cuda-nvrtc-cu12 12.5.82\n",
            "    Uninstalling nvidia-cuda-nvrtc-cu12-12.5.82:\n",
            "      Successfully uninstalled nvidia-cuda-nvrtc-cu12-12.5.82\n",
            "  Attempting uninstall: nvidia-cuda-cupti-cu12\n",
            "    Found existing installation: nvidia-cuda-cupti-cu12 12.5.82\n",
            "    Uninstalling nvidia-cuda-cupti-cu12-12.5.82:\n",
            "      Successfully uninstalled nvidia-cuda-cupti-cu12-12.5.82\n",
            "  Attempting uninstall: nvidia-cublas-cu12\n",
            "    Found existing installation: nvidia-cublas-cu12 12.5.3.2\n",
            "    Uninstalling nvidia-cublas-cu12-12.5.3.2:\n",
            "      Successfully uninstalled nvidia-cublas-cu12-12.5.3.2\n",
            "  Attempting uninstall: nvidia-cusparse-cu12\n",
            "    Found existing installation: nvidia-cusparse-cu12 12.5.1.3\n",
            "    Uninstalling nvidia-cusparse-cu12-12.5.1.3:\n",
            "      Successfully uninstalled nvidia-cusparse-cu12-12.5.1.3\n",
            "  Attempting uninstall: nvidia-cudnn-cu12\n",
            "    Found existing installation: nvidia-cudnn-cu12 9.3.0.75\n",
            "    Uninstalling nvidia-cudnn-cu12-9.3.0.75:\n",
            "      Successfully uninstalled nvidia-cudnn-cu12-9.3.0.75\n",
            "  Attempting uninstall: nvidia-cusolver-cu12\n",
            "    Found existing installation: nvidia-cusolver-cu12 11.6.3.83\n",
            "    Uninstalling nvidia-cusolver-cu12-11.6.3.83:\n",
            "      Successfully uninstalled nvidia-cusolver-cu12-11.6.3.83\n",
            "Successfully installed nvidia-cublas-cu12-12.4.5.8 nvidia-cuda-cupti-cu12-12.4.127 nvidia-cuda-nvrtc-cu12-12.4.127 nvidia-cuda-runtime-cu12-12.4.127 nvidia-cudnn-cu12-9.1.0.70 nvidia-cufft-cu12-11.2.1.3 nvidia-curand-cu12-10.3.5.147 nvidia-cusolver-cu12-11.6.1.9 nvidia-cusparse-cu12-12.3.1.170 nvidia-nvjitlink-cu12-12.4.127\n"
          ]
        }
      ],
      "execution_count": 1
    },
    {
      "cell_type": "code",
      "source": [
        "!pip install torch-fidelity lpips"
      ],
      "metadata": {
        "_uuid": "dd880a62-2cbc-4250-82d8-3d69e4ce3128",
        "_cell_guid": "6d7ad5a0-9399-49b6-a479-b178722caeaa",
        "trusted": true,
        "jupyter": {
          "outputs_hidden": false
        },
        "execution": {
          "iopub.status.busy": "2025-03-05T18:53:24.434277Z",
          "iopub.execute_input": "2025-03-05T18:53:24.43458Z",
          "iopub.status.idle": "2025-03-05T18:53:29.429399Z",
          "shell.execute_reply.started": "2025-03-05T18:53:24.434555Z",
          "shell.execute_reply": "2025-03-05T18:53:29.428519Z"
        },
        "colab": {
          "base_uri": "https://localhost:8080/"
        },
        "id": "HkNXPeSXL7pi",
        "outputId": "db1b3ca4-016b-472b-b901-65de2077e953"
      },
      "outputs": [
        {
          "output_type": "stream",
          "name": "stdout",
          "text": [
            "Collecting torch-fidelity\n",
            "  Downloading torch_fidelity-0.3.0-py3-none-any.whl.metadata (2.0 kB)\n",
            "Collecting lpips\n",
            "  Downloading lpips-0.1.4-py3-none-any.whl.metadata (10 kB)\n",
            "Requirement already satisfied: numpy in /usr/local/lib/python3.11/dist-packages (from torch-fidelity) (1.26.4)\n",
            "Requirement already satisfied: Pillow in /usr/local/lib/python3.11/dist-packages (from torch-fidelity) (11.1.0)\n",
            "Requirement already satisfied: scipy in /usr/local/lib/python3.11/dist-packages (from torch-fidelity) (1.13.1)\n",
            "Requirement already satisfied: torch in /usr/local/lib/python3.11/dist-packages (from torch-fidelity) (2.5.1+cu124)\n",
            "Requirement already satisfied: torchvision in /usr/local/lib/python3.11/dist-packages (from torch-fidelity) (0.20.1+cu124)\n",
            "Requirement already satisfied: tqdm in /usr/local/lib/python3.11/dist-packages (from torch-fidelity) (4.67.1)\n",
            "Requirement already satisfied: filelock in /usr/local/lib/python3.11/dist-packages (from torch->torch-fidelity) (3.17.0)\n",
            "Requirement already satisfied: typing-extensions>=4.8.0 in /usr/local/lib/python3.11/dist-packages (from torch->torch-fidelity) (4.12.2)\n",
            "Requirement already satisfied: networkx in /usr/local/lib/python3.11/dist-packages (from torch->torch-fidelity) (3.4.2)\n",
            "Requirement already satisfied: jinja2 in /usr/local/lib/python3.11/dist-packages (from torch->torch-fidelity) (3.1.5)\n",
            "Requirement already satisfied: fsspec in /usr/local/lib/python3.11/dist-packages (from torch->torch-fidelity) (2024.10.0)\n",
            "Requirement already satisfied: nvidia-cuda-nvrtc-cu12==12.4.127 in /usr/local/lib/python3.11/dist-packages (from torch->torch-fidelity) (12.4.127)\n",
            "Requirement already satisfied: nvidia-cuda-runtime-cu12==12.4.127 in /usr/local/lib/python3.11/dist-packages (from torch->torch-fidelity) (12.4.127)\n",
            "Requirement already satisfied: nvidia-cuda-cupti-cu12==12.4.127 in /usr/local/lib/python3.11/dist-packages (from torch->torch-fidelity) (12.4.127)\n",
            "Requirement already satisfied: nvidia-cudnn-cu12==9.1.0.70 in /usr/local/lib/python3.11/dist-packages (from torch->torch-fidelity) (9.1.0.70)\n",
            "Requirement already satisfied: nvidia-cublas-cu12==12.4.5.8 in /usr/local/lib/python3.11/dist-packages (from torch->torch-fidelity) (12.4.5.8)\n",
            "Requirement already satisfied: nvidia-cufft-cu12==11.2.1.3 in /usr/local/lib/python3.11/dist-packages (from torch->torch-fidelity) (11.2.1.3)\n",
            "Requirement already satisfied: nvidia-curand-cu12==10.3.5.147 in /usr/local/lib/python3.11/dist-packages (from torch->torch-fidelity) (10.3.5.147)\n",
            "Requirement already satisfied: nvidia-cusolver-cu12==11.6.1.9 in /usr/local/lib/python3.11/dist-packages (from torch->torch-fidelity) (11.6.1.9)\n",
            "Requirement already satisfied: nvidia-cusparse-cu12==12.3.1.170 in /usr/local/lib/python3.11/dist-packages (from torch->torch-fidelity) (12.3.1.170)\n",
            "Requirement already satisfied: nvidia-nccl-cu12==2.21.5 in /usr/local/lib/python3.11/dist-packages (from torch->torch-fidelity) (2.21.5)\n",
            "Requirement already satisfied: nvidia-nvtx-cu12==12.4.127 in /usr/local/lib/python3.11/dist-packages (from torch->torch-fidelity) (12.4.127)\n",
            "Requirement already satisfied: nvidia-nvjitlink-cu12==12.4.127 in /usr/local/lib/python3.11/dist-packages (from torch->torch-fidelity) (12.4.127)\n",
            "Requirement already satisfied: triton==3.1.0 in /usr/local/lib/python3.11/dist-packages (from torch->torch-fidelity) (3.1.0)\n",
            "Requirement already satisfied: sympy==1.13.1 in /usr/local/lib/python3.11/dist-packages (from torch->torch-fidelity) (1.13.1)\n",
            "Requirement already satisfied: mpmath<1.4,>=1.1.0 in /usr/local/lib/python3.11/dist-packages (from sympy==1.13.1->torch->torch-fidelity) (1.3.0)\n",
            "Requirement already satisfied: MarkupSafe>=2.0 in /usr/local/lib/python3.11/dist-packages (from jinja2->torch->torch-fidelity) (3.0.2)\n",
            "Downloading torch_fidelity-0.3.0-py3-none-any.whl (37 kB)\n",
            "Downloading lpips-0.1.4-py3-none-any.whl (53 kB)\n",
            "\u001b[2K   \u001b[90m━━━━━━━━━━━━━━━━━━━━━━━━━━━━━━━━━━━━━━━━\u001b[0m \u001b[32m53.8/53.8 kB\u001b[0m \u001b[31m5.2 MB/s\u001b[0m eta \u001b[36m0:00:00\u001b[0m\n",
            "\u001b[?25hInstalling collected packages: torch-fidelity, lpips\n",
            "Successfully installed lpips-0.1.4 torch-fidelity-0.3.0\n"
          ]
        }
      ],
      "execution_count": 2
    },
    {
      "cell_type": "code",
      "source": [
        "import torch\n",
        "import torch.distributed as dist\n",
        "import torch.multiprocessing as mp\n",
        "\n",
        "def setup(rank, world_size):\n",
        "    dist.init_process_group(\"nccl\", rank=rank, world_size=world_size)\n",
        "    torch.cuda.set_device(rank)\n"
      ],
      "metadata": {
        "trusted": true,
        "execution": {
          "iopub.status.busy": "2025-03-05T17:21:53.879263Z",
          "iopub.execute_input": "2025-03-05T17:21:53.87968Z",
          "iopub.status.idle": "2025-03-05T17:21:53.883712Z",
          "shell.execute_reply.started": "2025-03-05T17:21:53.879641Z",
          "shell.execute_reply": "2025-03-05T17:21:53.882981Z"
        },
        "id": "WBVqGRVBL7pi"
      },
      "outputs": [],
      "execution_count": 8
    },
    {
      "cell_type": "code",
      "source": [
        "!git clone https://github.com/SriVidyaYeluripati/SITTA.git -b Vidya"
      ],
      "metadata": {
        "colab": {
          "base_uri": "https://localhost:8080/"
        },
        "id": "U8TxfjCDOthA",
        "outputId": "82618abd-b7c7-4837-c414-8d57a893714d"
      },
      "execution_count": 3,
      "outputs": [
        {
          "output_type": "stream",
          "name": "stdout",
          "text": [
            "Cloning into 'SITTA'...\n",
            "remote: Enumerating objects: 56, done.\u001b[K\n",
            "remote: Counting objects: 100% (56/56), done.\u001b[K\n",
            "remote: Compressing objects: 100% (55/55), done.\u001b[K\n",
            "remote: Total 56 (delta 26), reused 0 (delta 0), pack-reused 0 (from 0)\u001b[K\n",
            "Receiving objects: 100% (56/56), 33.33 KiB | 11.11 MiB/s, done.\n",
            "Resolving deltas: 100% (26/26), done.\n"
          ]
        }
      ]
    },
    {
      "cell_type": "code",
      "source": [
        "%cd /root/.cache/kagglehub/datasets/yeluripatisrividya/plant-pathology-sitta/versions/1/images"
      ],
      "metadata": {
        "colab": {
          "base_uri": "https://localhost:8080/"
        },
        "id": "oiTGw7cHSnEq",
        "outputId": "c155480a-8523-4cc3-a1f9-9d4c320ead03"
      },
      "execution_count": 12,
      "outputs": [
        {
          "output_type": "stream",
          "name": "stdout",
          "text": [
            "/root/.cache/kagglehub/datasets/yeluripatisrividya/plant-pathology-sitta/versions/1/images\n"
          ]
        }
      ]
    },
    {
      "cell_type": "markdown",
      "source": [
        "# Step 2: Dataset Preparation"
      ],
      "metadata": {
        "_uuid": "758ad28a-9aef-4c3f-b200-a76a4edc6b82",
        "_cell_guid": "ad599890-6b00-4dbf-8134-2591de3a8779",
        "trusted": true,
        "collapsed": false,
        "jupyter": {
          "outputs_hidden": false
        },
        "id": "jDdkDILWL7pj"
      }
    },
    {
      "cell_type": "code",
      "source": [
        "import os\n",
        "import shutil\n",
        "import random\n",
        "import glob\n",
        "\n",
        "# Define dataset paths\n",
        "dataset_path = \"/root/.cache/kagglehub/datasets/yeluripatisrividya/plant-pathology-sitta/versions/1/images\"\n",
        "output_dir = \"/kaggle/working/dataset\"\n",
        "\n",
        "# Create required directories\n",
        "os.makedirs(f\"{output_dir}/leaves/trainA\", exist_ok=True)\n",
        "os.makedirs(f\"{output_dir}/leaves/testA\", exist_ok=True)\n",
        "os.makedirs(f\"{output_dir}/leaves/trainB\", exist_ok=True)\n",
        "os.makedirs(f\"{output_dir}/leaves/testB\", exist_ok=True)\n",
        "\n",
        "# Get all image files\n",
        "all_images = glob.glob(f\"{dataset_path}/*.jpg\")\n",
        "random.shuffle(all_images)\n",
        "\n",
        "# Split into 80% train, 20% test\n",
        "split_idx = int(0.8 * len(all_images))\n",
        "trainA_images = all_images[:split_idx]\n",
        "testA_images = all_images[split_idx:]\n",
        "\n",
        "# Copy images to trainA/testA\n",
        "for img in trainA_images:\n",
        "    shutil.copy(img, f\"{output_dir}/leaves/trainA/\")\n",
        "\n",
        "for img in testA_images:\n",
        "    shutil.copy(img, f\"{output_dir}/leaves/testA/\")\n",
        "\n",
        "# Select 200 random images as \"textures\" for trainB\n",
        "num_textures = min(200, len(trainA_images))\n",
        "trainB_images = random.sample(trainA_images, num_textures)\n",
        "\n",
        "# Move them to trainB (simulating textures)\n",
        "for img in trainB_images:\n",
        "    shutil.copy(img, f\"{output_dir}/leaves/trainB/\")\n",
        "\n",
        "# Move 10% of trainB to testB\n",
        "testB_size = int(0.1 * len(trainB_images))\n",
        "testB_images = trainB_images[:testB_size]\n",
        "\n",
        "for img in testB_images:\n",
        "    shutil.copy(img, f\"{output_dir}/leaves/testB/\")\n",
        "\n",
        "print(\"✅ Dataset structured successfully!\")"
      ],
      "metadata": {
        "_uuid": "8f659f81-591f-4823-99af-3b5ca8fcb51c",
        "_cell_guid": "953ae93f-d80a-471d-9234-3c8caf194b74",
        "trusted": true,
        "jupyter": {
          "outputs_hidden": false
        },
        "execution": {
          "iopub.status.busy": "2025-03-05T18:53:36.241636Z",
          "iopub.execute_input": "2025-03-05T18:53:36.241951Z",
          "iopub.status.idle": "2025-03-05T18:54:00.753994Z",
          "shell.execute_reply.started": "2025-03-05T18:53:36.241927Z",
          "shell.execute_reply": "2025-03-05T18:54:00.75321Z"
        },
        "colab": {
          "base_uri": "https://localhost:8080/"
        },
        "id": "p_FHrj2aL7pj",
        "outputId": "84607577-01c8-49e5-9957-f31db689ca78"
      },
      "outputs": [
        {
          "output_type": "stream",
          "name": "stdout",
          "text": [
            "✅ Dataset structured successfully!\n"
          ]
        }
      ],
      "execution_count": 13
    },
    {
      "cell_type": "code",
      "source": [
        "from google.colab import drive\n",
        "drive.mount('/content/drive')"
      ],
      "metadata": {
        "colab": {
          "base_uri": "https://localhost:8080/"
        },
        "id": "QkFQ8DFlPU7p",
        "outputId": "89904faf-1dde-4382-d2ec-feda0c7b5da8"
      },
      "execution_count": 16,
      "outputs": [
        {
          "output_type": "stream",
          "name": "stdout",
          "text": [
            "Mounted at /content/drive\n"
          ]
        }
      ]
    },
    {
      "cell_type": "markdown",
      "source": [
        "# Step 3: Resize Images"
      ],
      "metadata": {
        "_uuid": "8df05876-62d1-488b-a8f2-3c5572050fd4",
        "_cell_guid": "e116373a-647d-409e-a27b-7705266f7c68",
        "trusted": true,
        "collapsed": false,
        "jupyter": {
          "outputs_hidden": false
        },
        "id": "6Y8PT_nOL7pk"
      }
    },
    {
      "cell_type": "code",
      "source": [
        "from PIL import Image\n",
        "import os\n",
        "import glob\n",
        "\n",
        "# Define input and output directories\n",
        "dataset_dirs = [\"trainA\", \"testA\", \"trainB\", \"testB\"]\n",
        "base_dir = \"/kaggle/working/dataset/leaves\"\n",
        "\n",
        "# Target size\n",
        "TARGET_SIZE = (288, 288)\n",
        "\n",
        "for dataset in dataset_dirs:\n",
        "    input_folder = os.path.join(base_dir, dataset)\n",
        "    resized_folder = os.path.join(base_dir, f\"{dataset}_resized\")\n",
        "    os.makedirs(resized_folder, exist_ok=True)\n",
        "\n",
        "    # Resize all images\n",
        "    for img_path in glob.glob(input_folder + \"/*.jpg\"):\n",
        "        img = Image.open(img_path).convert(\"RGB\")  # Convert to RGB format\n",
        "        img = img.resize(TARGET_SIZE, Image.BICUBIC)  # Bicubic interpolation\n",
        "        img.save(os.path.join(resized_folder, os.path.basename(img_path)))\n",
        "\n",
        "    print(f\"✅ Resized images saved in {resized_folder}\")\n",
        "\n",
        "print(\"🔥 All images resized successfully!\")"
      ],
      "metadata": {
        "_uuid": "1e3ff369-92a7-46ff-9dcb-d3f936aa9233",
        "_cell_guid": "5ee50f29-fe40-4b6b-a3d2-de8eb00833ca",
        "trusted": true,
        "jupyter": {
          "outputs_hidden": false
        },
        "execution": {
          "iopub.status.busy": "2025-03-05T18:54:00.755162Z",
          "iopub.execute_input": "2025-03-05T18:54:00.755464Z",
          "iopub.status.idle": "2025-03-05T18:57:09.974123Z",
          "shell.execute_reply.started": "2025-03-05T18:54:00.755431Z",
          "shell.execute_reply": "2025-03-05T18:57:09.973398Z"
        },
        "colab": {
          "base_uri": "https://localhost:8080/"
        },
        "id": "NF_w9qQSL7pk",
        "outputId": "71e01fe5-6d35-4a06-ffa7-ff2a215b24e7"
      },
      "outputs": [
        {
          "output_type": "stream",
          "name": "stdout",
          "text": [
            "✅ Resized images saved in /kaggle/working/dataset/leaves/trainA_resized\n",
            "✅ Resized images saved in /kaggle/working/dataset/leaves/testA_resized\n",
            "✅ Resized images saved in /kaggle/working/dataset/leaves/trainB_resized\n",
            "✅ Resized images saved in /kaggle/working/dataset/leaves/testB_resized\n",
            "🔥 All images resized successfully!\n"
          ]
        }
      ],
      "execution_count": 14
    },
    {
      "cell_type": "markdown",
      "source": [
        "# Step 4: Update YAML"
      ],
      "metadata": {
        "_uuid": "1bb5e669-a111-4783-a569-9c7ea16aae75",
        "_cell_guid": "194f32b5-632e-491a-8a1f-10be1cb96da0",
        "trusted": true,
        "collapsed": false,
        "jupyter": {
          "outputs_hidden": false
        },
        "id": "rGaqOcVpL7pk"
      }
    },
    {
      "cell_type": "code",
      "source": [
        "import yaml\n",
        "\n",
        "# Load the YAML file\n",
        "yaml_path = \"/content/SITTA/configs/single2single.yaml\"\n",
        "with open(yaml_path, \"r\") as file:\n",
        "    config = yaml.safe_load(file)\n",
        "\n",
        "config[\"trainA_dir\"] = \"/kaggle/working/dataset/leaves/trainA_resized\"\n",
        "config[\"testA_dir\"] = \"/kaggle/working/dataset/leaves/testA_resized\"\n",
        "config[\"trainB_dir\"] = \"/kaggle/working/dataset/leaves/trainB_resized\"\n",
        "config[\"testB_dir\"] = \"/kaggle/working/dataset/leaves/testB_resized\"\n",
        "\n",
        "# Save updated YAML file\n",
        "with open(yaml_path, \"w\") as file:\n",
        "    yaml.dump(config, file)\n",
        "\n",
        "print(\"✅ YAML updated successfully!\")"
      ],
      "metadata": {
        "_uuid": "7a698d4f-fc27-4777-a58c-6272303161d9",
        "_cell_guid": "949bdd5f-bc38-4c87-9d9a-a88ffd68395d",
        "trusted": true,
        "jupyter": {
          "outputs_hidden": false
        },
        "execution": {
          "iopub.status.busy": "2025-03-05T18:57:09.97541Z",
          "iopub.execute_input": "2025-03-05T18:57:09.975643Z",
          "iopub.status.idle": "2025-03-05T18:57:10.012364Z",
          "shell.execute_reply.started": "2025-03-05T18:57:09.975623Z",
          "shell.execute_reply": "2025-03-05T18:57:10.011757Z"
        },
        "colab": {
          "base_uri": "https://localhost:8080/"
        },
        "id": "sdPMOlU4L7pk",
        "outputId": "60a669f0-ef82-4555-9e57-b4f80e04b97d"
      },
      "outputs": [
        {
          "output_type": "stream",
          "name": "stdout",
          "text": [
            "✅ YAML updated successfully!\n"
          ]
        }
      ],
      "execution_count": 15
    },
    {
      "cell_type": "markdown",
      "source": [
        "## DataLoaders"
      ],
      "metadata": {
        "id": "shKy7X0uL7pk"
      }
    },
    {
      "cell_type": "code",
      "source": [
        "import os\n",
        "from torch.utils.data import Dataset, DataLoader\n",
        "from PIL import Image\n",
        "import torchvision.transforms as transforms\n",
        "\n",
        "# Define dataset paths\n",
        "dataset_path = \"/kaggle/working/dataset/leaves\"\n",
        "\n",
        "# Define transformations\n",
        "transform = transforms.Compose([\n",
        "    transforms.Resize((288, 288)),\n",
        "    transforms.ToTensor(),\n",
        "])\n",
        "\n",
        "# Custom Dataset Class\n",
        "class CustomImageDataset(Dataset):\n",
        "    def __init__(self, image_dir, transform=None):\n",
        "        self.image_dir = image_dir\n",
        "        self.image_paths = [os.path.join(image_dir, fname) for fname in os.listdir(image_dir) if fname.endswith(('.jpg', '.png'))]\n",
        "        self.transform = transform\n",
        "\n",
        "    def __len__(self):\n",
        "        return len(self.image_paths)\n",
        "\n",
        "    def __getitem__(self, idx):\n",
        "        img_path = self.image_paths[idx]\n",
        "        image = Image.open(img_path).convert(\"RGB\")  # Convert to RGB format\n",
        "        if self.transform:\n",
        "            image = self.transform(image)\n",
        "        return image  # Return only the image (No label since it's unsupervised)\n",
        "\n",
        "# Load datasets using CustomImageDataset\n",
        "trainA_dataset = CustomImageDataset(image_dir=f\"{dataset_path}/trainA_resized\", transform=transform)\n",
        "trainB_dataset = CustomImageDataset(image_dir=f\"{dataset_path}/trainB_resized\", transform=transform)\n",
        "\n",
        "# Create DataLoaders\n",
        "trainA_loader = DataLoader(trainA_dataset, batch_size=8, shuffle=True)\n",
        "trainB_loader = DataLoader(trainB_dataset, batch_size=8, shuffle=True)\n",
        "\n",
        "print(f\"✅ Loaded {len(trainA_dataset)} images in TrainA and {len(trainB_dataset)} images in TrainB\")\n"
      ],
      "metadata": {
        "trusted": true,
        "execution": {
          "iopub.status.busy": "2025-03-05T18:57:10.01364Z",
          "iopub.execute_input": "2025-03-05T18:57:10.013908Z",
          "iopub.status.idle": "2025-03-05T18:57:15.319317Z",
          "shell.execute_reply.started": "2025-03-05T18:57:10.013887Z",
          "shell.execute_reply": "2025-03-05T18:57:15.318568Z"
        },
        "colab": {
          "base_uri": "https://localhost:8080/"
        },
        "id": "Of0l8c1ML7pk",
        "outputId": "df00f984-ba03-44ce-f3d3-676d05f05b4f"
      },
      "outputs": [
        {
          "output_type": "stream",
          "name": "stdout",
          "text": [
            "✅ Loaded 2913 images in TrainA and 200 images in TrainB\n"
          ]
        }
      ],
      "execution_count": 16
    },
    {
      "cell_type": "markdown",
      "source": [
        "# Step 5: SITTA Model Implementation (With PONO)\n",
        "This includes:\n",
        "\n",
        "PONO Normalization Layer\n",
        "SITTA Generator (with and without PONO)\n",
        "SITTA Discriminator"
      ],
      "metadata": {
        "_uuid": "a3e6284b-fe53-445c-95e9-6ad9943151e1",
        "_cell_guid": "306fcaf9-3930-4d9d-af5a-28f2d3c39160",
        "trusted": true,
        "collapsed": false,
        "jupyter": {
          "outputs_hidden": false
        },
        "id": "4nCHQ0rML7pl"
      }
    },
    {
      "cell_type": "markdown",
      "source": [
        "## 5.1: Define PONO Normalization"
      ],
      "metadata": {
        "_uuid": "fa02dd62-4e33-4b7d-af29-6214ed22224f",
        "_cell_guid": "d0b7c0f5-f351-42b8-8dd2-f068c6755371",
        "trusted": true,
        "collapsed": false,
        "jupyter": {
          "outputs_hidden": false
        },
        "id": "zcG9sYRSL7pl"
      }
    },
    {
      "cell_type": "code",
      "source": [
        "import torch\n",
        "import torch.nn as nn\n",
        "\n",
        "# Define PONO Normalization Layer\n",
        "class PONO(nn.Module):\n",
        "    def __init__(self):\n",
        "        super(PONO, self).__init__()\n",
        "\n",
        "    def forward(self, x):\n",
        "        mean = x.mean(dim=[2, 3], keepdim=True)\n",
        "        std = x.std(dim=[2, 3], keepdim=True)\n",
        "        return (x - mean) / (std + 1e-5), mean, std"
      ],
      "metadata": {
        "_uuid": "a0f73274-f91a-4a15-aadc-8e6da5cb5e9a",
        "_cell_guid": "29e9739e-97cd-431e-a290-e0b2976bcf13",
        "trusted": true,
        "jupyter": {
          "outputs_hidden": false
        },
        "execution": {
          "iopub.status.busy": "2025-03-05T18:57:15.320033Z",
          "iopub.execute_input": "2025-03-05T18:57:15.320385Z",
          "iopub.status.idle": "2025-03-05T18:57:15.324857Z",
          "shell.execute_reply.started": "2025-03-05T18:57:15.320364Z",
          "shell.execute_reply": "2025-03-05T18:57:15.324064Z"
        },
        "id": "wVbJrDuEL7pl"
      },
      "outputs": [],
      "execution_count": 17
    },
    {
      "cell_type": "markdown",
      "source": [
        "##  5.2: Define SITTA Generator (With & Without PONO)"
      ],
      "metadata": {
        "_uuid": "7ad9bad1-ed5b-4722-80dd-89dba5d2208f",
        "_cell_guid": "b9ec6703-a490-4205-b63f-d33fd259b74f",
        "trusted": true,
        "collapsed": false,
        "jupyter": {
          "outputs_hidden": false
        },
        "id": "r7q1W4VpL7pl"
      }
    },
    {
      "cell_type": "code",
      "source": [
        "# Define SITTA Generator with option to enable/disable PONO\n",
        "class SITTA_Generator(nn.Module):\n",
        "    def __init__(self, use_pono=False):\n",
        "        super(SITTA_Generator, self).__init__()\n",
        "        self.use_pono = use_pono\n",
        "        self.pono_layer = PONO() if use_pono else None\n",
        "\n",
        "        # Encoder: Extract features\n",
        "        self.encoder = nn.Sequential(\n",
        "            nn.Conv2d(3, 64, 7, padding=3),\n",
        "            nn.ReLU(),\n",
        "            nn.Conv2d(64, 128, 3, stride=2, padding=1),\n",
        "            nn.ReLU(),\n",
        "            nn.Conv2d(128, 256, 3, stride=2, padding=1),\n",
        "            nn.ReLU()\n",
        "        )\n",
        "\n",
        "        # Decoder: Generate texture\n",
        "        self.decoder = nn.Sequential(\n",
        "            nn.ConvTranspose2d(256, 128, 3, stride=2, padding=1, output_padding=1),\n",
        "            nn.ReLU(),\n",
        "            nn.ConvTranspose2d(128, 64, 3, stride=2, padding=1, output_padding=1),\n",
        "            nn.ReLU(),\n",
        "            nn.Conv2d(64, 3, 7, padding=3),\n",
        "            nn.Tanh()\n",
        "        )\n",
        "\n",
        "    def forward(self, x):\n",
        "        features = self.encoder(x)\n",
        "\n",
        "        # Apply PONO if enabled\n",
        "        if self.use_pono:\n",
        "            features, _, _ = self.pono_layer(features)\n",
        "\n",
        "        return self.decoder(features)"
      ],
      "metadata": {
        "_uuid": "6c42868e-fd5a-4d59-a093-11c3cc4cffda",
        "_cell_guid": "95d19001-f5a9-4577-8b35-41a59cef502c",
        "trusted": true,
        "execution": {
          "iopub.status.busy": "2025-03-05T18:57:15.325963Z",
          "iopub.execute_input": "2025-03-05T18:57:15.326284Z",
          "iopub.status.idle": "2025-03-05T18:57:15.352154Z",
          "shell.execute_reply.started": "2025-03-05T18:57:15.326257Z",
          "shell.execute_reply": "2025-03-05T18:57:15.351387Z"
        },
        "jupyter": {
          "outputs_hidden": false
        },
        "id": "hq5TRUPoL7pl"
      },
      "outputs": [],
      "execution_count": 18
    },
    {
      "cell_type": "markdown",
      "source": [
        "## 5.3: Define SITTA Discriminator"
      ],
      "metadata": {
        "_uuid": "3868e2c1-091b-48a5-a476-3acc3453de03",
        "_cell_guid": "b1dd49a7-5e3e-47e1-baec-66bc7f0ff6ed",
        "trusted": true,
        "collapsed": false,
        "jupyter": {
          "outputs_hidden": false
        },
        "id": "7A1IZpcjL7pl"
      }
    },
    {
      "cell_type": "code",
      "source": [
        "# Define SITTA Discriminator\n",
        "class SITTA_Discriminator(nn.Module):\n",
        "    def __init__(self):\n",
        "        super(SITTA_Discriminator, self).__init__()\n",
        "        self.model = nn.Sequential(\n",
        "            nn.Conv2d(3, 64, 4, stride=2, padding=1),\n",
        "            nn.LeakyReLU(0.2),\n",
        "            nn.Conv2d(64, 128, 4, stride=2, padding=1),\n",
        "            nn.LeakyReLU(0.2),\n",
        "            nn.Conv2d(128, 256, 4, stride=2, padding=1),\n",
        "            nn.LeakyReLU(0.2),\n",
        "            nn.Conv2d(256, 1, 4, stride=1, padding=1)\n",
        "        )\n",
        "\n",
        "    def forward(self, x):\n",
        "        return self.model(x)"
      ],
      "metadata": {
        "_uuid": "84c5f9e0-2dc1-464c-9d46-5ef3bb96767c",
        "_cell_guid": "a0f2478a-b19a-4150-993d-22faa41c4aff",
        "trusted": true,
        "execution": {
          "iopub.status.busy": "2025-03-05T18:57:15.35282Z",
          "iopub.execute_input": "2025-03-05T18:57:15.353015Z",
          "iopub.status.idle": "2025-03-05T18:57:15.36366Z",
          "shell.execute_reply.started": "2025-03-05T18:57:15.352997Z",
          "shell.execute_reply": "2025-03-05T18:57:15.362963Z"
        },
        "jupyter": {
          "outputs_hidden": false
        },
        "id": "pI1uC32iL7pl"
      },
      "outputs": [],
      "execution_count": 19
    },
    {
      "cell_type": "markdown",
      "source": [
        "## 5.4: Initialize Models"
      ],
      "metadata": {
        "_uuid": "25d08ed7-ace8-4011-ac6b-1001a83609e3",
        "_cell_guid": "56c59db8-b7b2-4176-ac7e-4fdaad42973a",
        "trusted": true,
        "collapsed": false,
        "jupyter": {
          "outputs_hidden": false
        },
        "id": "PoZIPTHXL7pl"
      }
    },
    {
      "cell_type": "code",
      "source": [
        "# Initialize models\n",
        "generator_without_pono = SITTA_Generator(use_pono=False).cuda()\n",
        "generator_with_pono = SITTA_Generator(use_pono=True).cuda()\n",
        "discriminator = SITTA_Discriminator().cuda()\n",
        "\n",
        "print(\"✅ Generator (with & without PONO) and Discriminator initialized successfully!\")"
      ],
      "metadata": {
        "_uuid": "ab10a2ad-0074-4ed7-a8af-46096d8f48a3",
        "_cell_guid": "56e8edf1-3abb-4e0a-b8e3-397bb0e31ef6",
        "trusted": true,
        "execution": {
          "iopub.status.busy": "2025-03-05T18:57:15.366599Z",
          "iopub.execute_input": "2025-03-05T18:57:15.366806Z",
          "iopub.status.idle": "2025-03-05T18:57:15.723533Z",
          "shell.execute_reply.started": "2025-03-05T18:57:15.366777Z",
          "shell.execute_reply": "2025-03-05T18:57:15.722648Z"
        },
        "jupyter": {
          "outputs_hidden": false
        },
        "colab": {
          "base_uri": "https://localhost:8080/"
        },
        "id": "N-LGKPqpL7pl",
        "outputId": "82ace127-e141-40cd-a0fb-837cdbb1e3c9"
      },
      "outputs": [
        {
          "output_type": "stream",
          "name": "stdout",
          "text": [
            "✅ Generator (with & without PONO) and Discriminator initialized successfully!\n"
          ]
        }
      ],
      "execution_count": 20
    },
    {
      "cell_type": "markdown",
      "source": [
        "# Step 6: Training Function for SITTA (With & Without PONO)\n",
        "✔ Includes:\n",
        "\n",
        "\n",
        "* Adversarial Loss\n",
        "* Cycle Consistency Loss\n",
        "* Identity Loss\n",
        "* Training Function\n",
        "* Training Execution for both With & Without PONO"
      ],
      "metadata": {
        "_uuid": "38249b7c-80ab-4003-b5df-bd1994b0170e",
        "_cell_guid": "dc086e0d-0af4-4556-8ef6-8c6f484345b0",
        "trusted": true,
        "collapsed": false,
        "jupyter": {
          "outputs_hidden": false
        },
        "id": "CAgeVLH2L7pl"
      }
    },
    {
      "cell_type": "markdown",
      "source": [
        "## 6.1: Define Loss Functions"
      ],
      "metadata": {
        "_uuid": "f11ddce9-225f-41e8-8fa4-a38de36150b6",
        "_cell_guid": "9f93f309-0dbb-4bd6-a5ba-88cdb398d8ef",
        "trusted": true,
        "collapsed": false,
        "jupyter": {
          "outputs_hidden": false
        },
        "id": "hS-9IifYL7pl"
      }
    },
    {
      "cell_type": "code",
      "source": [
        "import torch.optim as optim\n",
        "import torch.nn.functional as F\n",
        "\n",
        "# Define loss functions\n",
        "adversarial_loss = nn.MSELoss()  # For GAN loss\n",
        "cycle_loss = nn.L1Loss()         # Cycle consistency loss\n",
        "identity_loss = nn.L1Loss()      # Identity loss\n",
        "\n",
        "# Optimizers\n",
        "optimizer_G = optim.Adam(generator_with_pono.parameters(), lr=0.0002, betas=(0.5, 0.999))\n",
        "optimizer_D = optim.Adam(discriminator.parameters(), lr=0.0002, betas=(0.5, 0.999))\n",
        "\n",
        "print(\"✅ Loss functions and optimizers initialized!\")"
      ],
      "metadata": {
        "_uuid": "1b144836-1927-46bd-90f1-fe3f85da89be",
        "_cell_guid": "72e1b96a-6cca-4130-b1a5-d902e825d179",
        "trusted": true,
        "execution": {
          "iopub.status.busy": "2025-03-05T18:57:15.724616Z",
          "iopub.execute_input": "2025-03-05T18:57:15.724904Z",
          "iopub.status.idle": "2025-03-05T18:57:15.730816Z",
          "shell.execute_reply.started": "2025-03-05T18:57:15.72488Z",
          "shell.execute_reply": "2025-03-05T18:57:15.729927Z"
        },
        "jupyter": {
          "outputs_hidden": false
        },
        "colab": {
          "base_uri": "https://localhost:8080/"
        },
        "id": "n3clqtbxL7pl",
        "outputId": "b6aaf735-395c-40a5-8e46-ca92a1a891f7"
      },
      "outputs": [
        {
          "output_type": "stream",
          "name": "stdout",
          "text": [
            "✅ Loss functions and optimizers initialized!\n"
          ]
        }
      ],
      "execution_count": 21
    },
    {
      "cell_type": "markdown",
      "source": [
        "## 6.2: Define Training Function"
      ],
      "metadata": {
        "_uuid": "12cdf513-6a2f-44cd-8335-79afa44999b6",
        "_cell_guid": "fc55a799-6407-4e9e-bde2-1b5a79cdbbc1",
        "trusted": true,
        "collapsed": false,
        "jupyter": {
          "outputs_hidden": false
        },
        "id": "_cIXm2NiL7pl"
      }
    },
    {
      "cell_type": "code",
      "source": [
        "import time\n",
        "\n",
        "def train_sitta(generator, label, trainA_loader, trainB_loader, epochs=5):\n",
        "    \"\"\"\n",
        "    Training function for SITTA generator.\n",
        "    Runs a simple adversarial loss training loop.\n",
        "    \"\"\"\n",
        "    print(f\"🚀 Training {label} Generator...\")\n",
        "\n",
        "    for epoch in range(epochs):\n",
        "        start_time = time.time()\n",
        "\n",
        "        for real_A in trainA_loader:\n",
        "            for real_B in trainB_loader:\n",
        "                real_A, real_B = real_A.cuda(), real_B.cuda()\n",
        "                fake_B = generator(real_A)\n",
        "\n",
        "                # Compute loss\n",
        "                adv_loss = adversarial_loss(discriminator(fake_B), torch.ones_like(discriminator(fake_B)))\n",
        "                cyc_loss = cycle_loss(generator(fake_B), real_A)\n",
        "                idt_loss = identity_loss(generator(real_B), real_B)\n",
        "                gen_loss = adv_loss + 10 * cyc_loss + 5 * idt_loss\n",
        "\n",
        "                # Optimize Generator\n",
        "                optimizer_G.zero_grad()\n",
        "                gen_loss.backward()\n",
        "                optimizer_G.step()\n",
        "\n",
        "        end_time = time.time() - start_time\n",
        "        print(f\"Epoch [{epoch+1}/{epochs}] - Gen Loss: {gen_loss.item():.4f} - Time: {end_time:.2f}s\")\n",
        "\n",
        "    print(f\"✅ Training Complete for {label}!\")"
      ],
      "metadata": {
        "_uuid": "738ab797-077d-4e87-a498-b0b86cf67d91",
        "_cell_guid": "a5bf0fe6-8ffa-4da2-a977-72673f60c547",
        "trusted": true,
        "execution": {
          "iopub.status.busy": "2025-03-05T18:57:15.731728Z",
          "iopub.execute_input": "2025-03-05T18:57:15.732018Z",
          "iopub.status.idle": "2025-03-05T18:57:15.748143Z",
          "shell.execute_reply.started": "2025-03-05T18:57:15.731988Z",
          "shell.execute_reply": "2025-03-05T18:57:15.74743Z"
        },
        "jupyter": {
          "outputs_hidden": false
        },
        "id": "gl2GGKIOL7pl"
      },
      "outputs": [],
      "execution_count": 22
    },
    {
      "cell_type": "markdown",
      "source": [
        "## 6.3: Train Both Models (With & Without PONO)"
      ],
      "metadata": {
        "_uuid": "ae120d58-25f4-4358-bc4b-c5718660f80a",
        "_cell_guid": "6fd37081-0e9a-45b1-accb-0a2e6f60d60c",
        "trusted": true,
        "collapsed": false,
        "jupyter": {
          "outputs_hidden": false
        },
        "id": "U3RM2fzcL7pm"
      }
    },
    {
      "cell_type": "code",
      "source": [
        "# Train without PONO\n",
        "generator_without_pono = SITTA_Generator(use_pono=False).cuda()\n",
        "train_sitta(generator_without_pono, \"Without PONO\", trainA_loader, trainB_loader)\n",
        "\n",
        "# Train with PONO\n",
        "generator_with_pono = SITTA_Generator(use_pono=True).cuda()\n",
        "train_sitta(generator_with_pono, \"With PONO\", trainA_loader, trainB_loader)\n",
        "\n",
        "print(\"✅ Training completed for both versions!\")\n"
      ],
      "metadata": {
        "_uuid": "87467d34-a792-4bb0-88ba-fadad05b4ed3",
        "_cell_guid": "28535b93-5cfe-4370-b9e1-adb62d63e600",
        "trusted": true,
        "execution": {
          "iopub.status.busy": "2025-03-05T18:57:15.74906Z",
          "iopub.execute_input": "2025-03-05T18:57:15.749414Z",
          "execution_failed": "2025-03-05T21:21:17.737Z"
        },
        "jupyter": {
          "outputs_hidden": false
        },
        "colab": {
          "base_uri": "https://localhost:8080/"
        },
        "id": "wf4IiR_3L7pm",
        "outputId": "85f655ba-ace0-41ac-dba5-d7618881d554"
      },
      "outputs": [
        {
          "metadata": {
            "tags": null
          },
          "name": "stdout",
          "output_type": "stream",
          "text": [
            "🚀 Training Without PONO Generator...\n",
            "Epoch [1/5] - Gen Loss: 7.8142 - Time: 874.57s\n",
            "Epoch [2/5] - Gen Loss: 7.7085 - Time: 873.60s\n",
            "Epoch [3/5] - Gen Loss: 8.7510 - Time: 873.59s\n",
            "Epoch [4/5] - Gen Loss: 7.2198 - Time: 873.43s\n",
            "Epoch [5/5] - Gen Loss: 7.9516 - Time: 873.53s\n",
            "✅ Training Complete for Without PONO!\n",
            "🚀 Training With PONO Generator...\n",
            "Epoch [1/5] - Gen Loss: 7.2027 - Time: 909.75s\n",
            "Epoch [2/5] - Gen Loss: 7.2146 - Time: 909.41s\n",
            "Epoch [3/5] - Gen Loss: 6.2360 - Time: 909.23s\n",
            "Epoch [4/5] - Gen Loss: 8.0040 - Time: 909.22s\n",
            "Epoch [5/5] - Gen Loss: 6.9245 - Time: 909.32s\n",
            "✅ Training Complete for With PONO!\n",
            "✅ Training completed for both versions!\n"
          ]
        }
      ],
      "execution_count": 23
    },
    {
      "cell_type": "markdown",
      "source": [
        "# Step 7: Evaluation Metrics for SITTA\n",
        "✔ Includes:\n",
        "\n",
        "* FID (Fréchet Inception Distance)\n",
        "* LPIPS (Learned Perceptual Image Patch Similarity)\n",
        "* VGG Loss\n",
        "* Visualization of Results"
      ],
      "metadata": {
        "_uuid": "ccc09b69-c11d-414b-b31d-27b225513af2",
        "_cell_guid": "45587e18-4f28-4304-ae3e-b7ae826cfc81",
        "trusted": true,
        "collapsed": false,
        "jupyter": {
          "outputs_hidden": false
        },
        "id": "7obYS53UL7pm"
      }
    },
    {
      "cell_type": "markdown",
      "source": [
        "## 7.1: Define FID Calculation"
      ],
      "metadata": {
        "_uuid": "5b3832cb-6797-4082-a8b0-6375e7ad391e",
        "_cell_guid": "65fa9483-d809-454e-b36b-ee2b0afb367c",
        "trusted": true,
        "collapsed": false,
        "jupyter": {
          "outputs_hidden": false
        },
        "id": "UxZiHQeBL7pm"
      }
    },
    {
      "cell_type": "code",
      "source": [
        "from torch_fidelity import calculate_metrics\n",
        "\n",
        "def compute_fid(real_images, generated_images):\n",
        "    \"\"\"\n",
        "    Compute FID between real and generated images.\n",
        "    \"\"\"\n",
        "    metrics = calculate_metrics(\n",
        "        input1=real_images,\n",
        "        input2=generated_images,\n",
        "        fid=True,\n",
        "        cuda=torch.cuda.is_available()\n",
        "    )\n",
        "    return metrics[\"frechet_inception_distance\"]"
      ],
      "metadata": {
        "_uuid": "e9acb44d-ade4-4d26-af4e-3814c556faed",
        "_cell_guid": "a5dd7d0a-d478-44f9-aa0f-921d0680f6d8",
        "trusted": true,
        "jupyter": {
          "outputs_hidden": false
        },
        "execution": {
          "execution_failed": "2025-03-05T21:21:17.738Z"
        },
        "id": "4A8bEvf2L7pm"
      },
      "outputs": [],
      "execution_count": 24
    },
    {
      "cell_type": "markdown",
      "source": [
        "##  7.2: Define LPIPS Calculation"
      ],
      "metadata": {
        "_uuid": "819176b0-7fb5-4aff-9881-ba780763668b",
        "_cell_guid": "d36c3d6b-5813-422d-bfdf-6ee13fb3dab8",
        "trusted": true,
        "collapsed": false,
        "jupyter": {
          "outputs_hidden": false
        },
        "id": "ofTwkJt0L7pm"
      }
    },
    {
      "cell_type": "code",
      "source": [
        "import lpips\n",
        "\n",
        "lpips_model = lpips.LPIPS(net='alex')\n",
        "\n",
        "def compute_lpips(real_images, generated_images):\n",
        "    \"\"\"\n",
        "    Compute LPIPS score.\n",
        "    \"\"\"\n",
        "    return lpips_model(real_images, generated_images).mean().item()"
      ],
      "metadata": {
        "_uuid": "6f35de51-e303-4642-930f-d01d51630e2a",
        "_cell_guid": "01f75b61-f30d-4f0b-b317-82b65c69d6bd",
        "trusted": true,
        "jupyter": {
          "outputs_hidden": false
        },
        "execution": {
          "execution_failed": "2025-03-05T21:21:17.738Z"
        },
        "colab": {
          "base_uri": "https://localhost:8080/"
        },
        "id": "_w15O48RL7pm",
        "outputId": "7297caf0-4f12-4b05-f06d-a2187db9aa7d"
      },
      "outputs": [
        {
          "output_type": "stream",
          "name": "stdout",
          "text": [
            "Setting up [LPIPS] perceptual loss: trunk [alex], v[0.1], spatial [off]\n",
            "Loading model from: /usr/local/lib/python3.11/dist-packages/lpips/weights/v0.1/alex.pth\n"
          ]
        }
      ],
      "execution_count": 26
    },
    {
      "cell_type": "markdown",
      "source": [
        "## 7.3: Update VGG Loss"
      ],
      "metadata": {
        "_uuid": "778dcc29-81c0-479c-ad3a-88f8f0156fa6",
        "_cell_guid": "ef1446d0-c310-43ab-a855-d55f65b6ee77",
        "trusted": true,
        "collapsed": false,
        "jupyter": {
          "outputs_hidden": false
        },
        "id": "h29Ib8QUL7pm"
      }
    },
    {
      "cell_type": "code",
      "source": [
        "import torchvision.models as models\n",
        "\n",
        "class VGGLoss(nn.Module):\n",
        "    def __init__(self):\n",
        "        super().__init__()\n",
        "        self.vgg = models.vgg19(pretrained=True).features[:16].eval()\n",
        "        for param in self.vgg.parameters():\n",
        "            param.requires_grad = False\n",
        "        self.criterion = nn.L1Loss()\n",
        "\n",
        "    def forward(self, generated, target):\n",
        "        generated_features = self.vgg(generated)\n",
        "        target_features = self.vgg(target).detach()\n",
        "        return self.criterion(generated_features, target_features)"
      ],
      "metadata": {
        "_uuid": "cf7d636a-1a71-434c-85d3-b8e8394a5864",
        "_cell_guid": "78e863c8-23d6-4ae7-a64b-dccabb4670fb",
        "trusted": true,
        "jupyter": {
          "outputs_hidden": false
        },
        "execution": {
          "execution_failed": "2025-03-05T21:21:17.738Z"
        },
        "id": "rML3NuZWL7pm"
      },
      "outputs": [],
      "execution_count": 27
    },
    {
      "cell_type": "markdown",
      "source": [
        "##  7.4: Evaluate Trained Models"
      ],
      "metadata": {
        "_uuid": "0378c4bd-19d4-4a27-996d-e164dd7108bd",
        "_cell_guid": "5b6520d8-6f48-47be-acbf-47a1c0815e89",
        "trusted": true,
        "collapsed": false,
        "jupyter": {
          "outputs_hidden": false
        },
        "id": "SNfxS0kVL7pp"
      }
    },
    {
      "cell_type": "code",
      "source": [
        "print(\"🔍 Evaluating SITTA With & Without PONO...\")\n",
        "\n",
        "# Compute evaluation metrics\n",
        "fid_without_pono = compute_fid(real_B, generator_without_pono(real_A))\n",
        "lpips_without_pono = compute_lpips(real_B, generator_without_pono(real_A))\n",
        "\n",
        "fid_with_pono = compute_fid(real_B, generator_with_pono(real_A))\n",
        "lpips_with_pono = compute_lpips(real_B, generator_with_pono(real_A))\n",
        "\n",
        "print(f\"📊 FID Score Without PONO: {fid_without_pono:.2f}\")\n",
        "print(f\"📊 LPIPS Score Without PONO: {lpips_without_pono:.3f}\")\n",
        "print(f\"📊 FID Score With PONO: {fid_with_pono:.2f}\")\n",
        "print(f\"📊 LPIPS Score With PONO: {lpips_with_pono:.3f}\")\n"
      ],
      "metadata": {
        "_uuid": "58ed826f-9dc1-4a22-8879-ca68a7c02f32",
        "_cell_guid": "d6d0e091-513c-4f4f-9e35-857a3f33a415",
        "trusted": true,
        "jupyter": {
          "source_hidden": true
        },
        "execution": {
          "execution_failed": "2025-03-05T21:21:17.738Z"
        },
        "colab": {
          "base_uri": "https://localhost:8080/",
          "height": 245
        },
        "id": "RJmlL5_ML7pp",
        "outputId": "ee1a1e2a-c377-4c33-a893-aa5e36c409d0"
      },
      "outputs": [
        {
          "output_type": "stream",
          "name": "stdout",
          "text": [
            "🔍 Evaluating SITTA With & Without PONO...\n"
          ]
        },
        {
          "output_type": "error",
          "ename": "NameError",
          "evalue": "name 'real_B' is not defined",
          "traceback": [
            "\u001b[0;31m---------------------------------------------------------------------------\u001b[0m",
            "\u001b[0;31mNameError\u001b[0m                                 Traceback (most recent call last)",
            "\u001b[0;32m<ipython-input-28-817f2cba1a37>\u001b[0m in \u001b[0;36m<cell line: 0>\u001b[0;34m()\u001b[0m\n\u001b[1;32m      2\u001b[0m \u001b[0;34m\u001b[0m\u001b[0m\n\u001b[1;32m      3\u001b[0m \u001b[0;31m# Compute evaluation metrics\u001b[0m\u001b[0;34m\u001b[0m\u001b[0;34m\u001b[0m\u001b[0m\n\u001b[0;32m----> 4\u001b[0;31m \u001b[0mfid_without_pono\u001b[0m \u001b[0;34m=\u001b[0m \u001b[0mcompute_fid\u001b[0m\u001b[0;34m(\u001b[0m\u001b[0mreal_B\u001b[0m\u001b[0;34m,\u001b[0m \u001b[0mgenerator_without_pono\u001b[0m\u001b[0;34m(\u001b[0m\u001b[0mreal_A\u001b[0m\u001b[0;34m)\u001b[0m\u001b[0;34m)\u001b[0m\u001b[0;34m\u001b[0m\u001b[0;34m\u001b[0m\u001b[0m\n\u001b[0m\u001b[1;32m      5\u001b[0m \u001b[0mlpips_without_pono\u001b[0m \u001b[0;34m=\u001b[0m \u001b[0mcompute_lpips\u001b[0m\u001b[0;34m(\u001b[0m\u001b[0mreal_B\u001b[0m\u001b[0;34m,\u001b[0m \u001b[0mgenerator_without_pono\u001b[0m\u001b[0;34m(\u001b[0m\u001b[0mreal_A\u001b[0m\u001b[0;34m)\u001b[0m\u001b[0;34m)\u001b[0m\u001b[0;34m\u001b[0m\u001b[0;34m\u001b[0m\u001b[0m\n\u001b[1;32m      6\u001b[0m \u001b[0;34m\u001b[0m\u001b[0m\n",
            "\u001b[0;31mNameError\u001b[0m: name 'real_B' is not defined"
          ]
        }
      ],
      "execution_count": 28
    },
    {
      "cell_type": "markdown",
      "source": [
        "## 7.5: Visualizing Results"
      ],
      "metadata": {
        "_uuid": "3f09ac9c-d5f7-4546-bced-5cb8b293ba3b",
        "_cell_guid": "74830711-bcdc-42bf-ad8a-2c2c433e1ec0",
        "trusted": true,
        "collapsed": false,
        "jupyter": {
          "outputs_hidden": false
        },
        "id": "3k0frDRSL7pq"
      }
    },
    {
      "cell_type": "code",
      "source": [
        "import matplotlib.pyplot as plt\n",
        "\n",
        "def visualize_results(real_A, fake_B):\n",
        "    \"\"\"\n",
        "    Displays a side-by-side comparison of real images and their generated textures.\n",
        "    \"\"\"\n",
        "    real_A = real_A.permute(0, 2, 3, 1).cpu().numpy()\n",
        "    fake_B = fake_B.permute(0, 2, 3, 1).cpu().numpy()\n",
        "\n",
        "    fig, axes = plt.subplots(2, len(real_A), figsize=(12, 5))\n",
        "\n",
        "    for i in range(len(real_A)):\n",
        "        axes[0, i].imshow(real_A[i])\n",
        "        axes[0, i].axis(\"off\")\n",
        "        axes[1, i].imshow(fake_B[i])\n",
        "        axes[1, i].axis(\"off\")\n",
        "\n",
        "    axes[0, 0].set_title(\"Original Shape\")\n",
        "    axes[1, 0].set_title(\"Generated Texture\")\n",
        "    plt.show()\n",
        "\n",
        "# Display a batch of results\n",
        "visualize_results(test_real_A, test_fake_B)"
      ],
      "metadata": {
        "_uuid": "f61a4c0d-73c6-413a-9d05-b8b57c1dc337",
        "_cell_guid": "6a23b365-896a-40ea-8ec3-a91a46b9d695",
        "trusted": true,
        "jupyter": {
          "outputs_hidden": false
        },
        "execution": {
          "execution_failed": "2025-03-05T21:21:17.738Z"
        },
        "id": "jWGTrJuRL7pq"
      },
      "outputs": [],
      "execution_count": null
    },
    {
      "cell_type": "code",
      "source": [
        "import matplotlib.pyplot as plt\n",
        "\n",
        "# Plot FID & LPIPS for PONO vs No PONO\n",
        "fig, axes = plt.subplots(1, 2, figsize=(12, 5))\n",
        "\n",
        "axes[0].bar([\"Without PONO\", \"With PONO\"], [fid_without_pono, fid_with_pono], color=['red', 'green'])\n",
        "axes[0].set_title(\"FID Score Comparison\")\n",
        "axes[0].set_ylabel(\"FID Score\")\n",
        "\n",
        "axes[1].bar([\"Without PONO\", \"With PONO\"], [lpips_without_pono, lpips_with_pono], color=['red', 'green'])\n",
        "axes[1].set_title(\"LPIPS Score Comparison\")\n",
        "axes[1].set_ylabel(\"LPIPS Score\")\n",
        "\n",
        "plt.show()\n",
        "print(\"✅ PONO Ablation Study Completed!\")\n"
      ],
      "metadata": {
        "trusted": true,
        "execution": {
          "execution_failed": "2025-03-05T21:21:17.738Z"
        },
        "id": "MPAEjLhSL7pq"
      },
      "outputs": [],
      "execution_count": null
    },
    {
      "cell_type": "markdown",
      "source": [
        "# Step 8: Compare SITTA With PONO vs Without PONO\n",
        "🚀 This step will compare the model’s performance when using PONO vs not using PONO.\n",
        "✔ We will train two versions of the model and evaluate them."
      ],
      "metadata": {
        "id": "dGRiUMi1L7pq"
      }
    },
    {
      "cell_type": "markdown",
      "source": [
        "## 8.1: Define Training Function for PONO Comparison"
      ],
      "metadata": {
        "id": "GUmHgcy8L7pq"
      }
    },
    {
      "cell_type": "markdown",
      "source": [
        "## 8.2: Train and Evaluate PONO vs Non-PONO"
      ],
      "metadata": {
        "id": "s5LzCPlWL7pq"
      }
    },
    {
      "cell_type": "markdown",
      "source": [
        "# Step 9: Save and Export the Final Trained Model"
      ],
      "metadata": {
        "id": "4YYvWYmLL7pq"
      }
    },
    {
      "cell_type": "markdown",
      "source": [
        "## 9.1: Save Trained Models"
      ],
      "metadata": {
        "id": "W2sKOgq0L7pq"
      }
    },
    {
      "cell_type": "code",
      "source": [
        "# Create directory for saved models\n",
        "os.makedirs(\"/kaggle/working/sitta_models\", exist_ok=True)\n",
        "\n",
        "# Save trained models\n",
        "torch.save(generator_without_pono.state_dict(), \"/kaggle/working/sitta_models/generator_without_pono.pth\")\n",
        "torch.save(generator_with_pono.state_dict(), \"/kaggle/working/sitta_models/generator_with_pono.pth\")\n",
        "\n",
        "print(\"✅ Models saved successfully!\")\n"
      ],
      "metadata": {
        "trusted": true,
        "id": "KQvON7l4L7pq"
      },
      "outputs": [],
      "execution_count": null
    },
    {
      "cell_type": "markdown",
      "source": [
        "##  9.2: Reload and Test Saved Models"
      ],
      "metadata": {
        "id": "3JPHpEVeL7pq"
      }
    },
    {
      "cell_type": "code",
      "source": [
        "# Load trained models for verification\n",
        "loaded_gen_without_pono = SITTA_Generator(use_pono=False).cuda()\n",
        "loaded_gen_without_pono.load_state_dict(torch.load(\"/kaggle/working/sitta_models/generator_without_pono.pth\"))\n",
        "\n",
        "loaded_gen_with_pono = SITTA_Generator(use_pono=True).cuda()\n",
        "loaded_gen_with_pono.load_state_dict(torch.load(\"/kaggle/working/sitta_models/generator_with_pono.pth\"))\n",
        "\n",
        "print(\"✅ Models reloaded successfully!\")\n",
        "\n",
        "# Generate new images using the reloaded models\n",
        "test_fake_B_without_pono = loaded_gen_without_pono(test_real_A).detach()\n",
        "test_fake_B_with_pono = loaded_gen_with_pono(test_real_A).detach()\n",
        "\n",
        "# Display reloaded model results\n",
        "print(\"📊 Reloaded Model Results Comparison\")\n",
        "visualize_results(test_real_A, test_fake_B_without_pono)\n",
        "visualize_results(test_real_A, test_fake_B_with_pono)\n"
      ],
      "metadata": {
        "trusted": true,
        "id": "62zmkbdlL7pq"
      },
      "outputs": [],
      "execution_count": null
    },
    {
      "cell_type": "markdown",
      "source": [
        "## 9.3: Clean Up Files to Save Space"
      ],
      "metadata": {
        "id": "nAUiv_WuL7pq"
      }
    },
    {
      "cell_type": "code",
      "source": [
        "!rm -rf /kaggle/working/dataset  # Remove dataset if not needed anymore\n",
        "!rm -rf /kaggle/working/1  # Remove copied repo if needed\n",
        "print(\"✅ Cleaned up unnecessary files!\")\n"
      ],
      "metadata": {
        "trusted": true,
        "id": "UDfAw3gfL7pq"
      },
      "outputs": [],
      "execution_count": null
    }
  ]
}